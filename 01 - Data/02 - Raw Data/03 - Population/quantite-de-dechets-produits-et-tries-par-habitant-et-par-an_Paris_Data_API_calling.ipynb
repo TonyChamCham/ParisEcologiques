{
 "cells": [
  {
   "cell_type": "markdown",
   "metadata": {},
   "source": [
    "## Evolution of types of waste produced by Parisians (from 2019 to 2023)."
   ]
  },
  {
   "cell_type": "markdown",
   "metadata": {},
   "source": [
    "### Importing libraries"
   ]
  },
  {
   "cell_type": "code",
   "execution_count": 1,
   "metadata": {},
   "outputs": [],
   "source": [
    "import pandas as pd\n",
    "import requests "
   ]
  },
  {
   "cell_type": "markdown",
   "metadata": {},
   "source": [
    "### Connecting to Paris Data's API (and testing the response's status code)"
   ]
  },
  {
   "cell_type": "code",
   "execution_count": 2,
   "metadata": {},
   "outputs": [
    {
     "data": {
      "text/plain": [
       "200"
      ]
     },
     "execution_count": 2,
     "metadata": {},
     "output_type": "execute_result"
    }
   ],
   "source": [
    "params = {\"select\":\"*\"}\n",
    "response = requests.get('https://opendata.paris.fr/api/explore/v2.1/catalog/datasets/quantite-de-dechets-produits-et-tries-par-habitant-et-par-an/records?', params=params)\n",
    "response.status_code"
   ]
  },
  {
   "cell_type": "code",
   "execution_count": 3,
   "metadata": {},
   "outputs": [
    {
     "name": "stdout",
     "output_type": "stream",
     "text": [
      "<class 'pandas.core.frame.DataFrame'>\n",
      "RangeIndex: 10 entries, 0 to 9\n",
      "Data columns (total 4 columns):\n",
      " #   Column                          Non-Null Count  Dtype  \n",
      "---  ------                          --------------  -----  \n",
      " 0   annee                           10 non-null     object \n",
      " 1   type_de_dechets                 10 non-null     object \n",
      " 2   quantite                        10 non-null     float64\n",
      " 3   variation_annuelle_des_dechets  10 non-null     float64\n",
      "dtypes: float64(2), object(2)\n",
      "memory usage: 452.0+ bytes\n"
     ]
    }
   ],
   "source": [
    "pd.DataFrame(response.json()[\"results\"]).info()"
   ]
  },
  {
   "cell_type": "markdown",
   "metadata": {},
   "source": [
    "### Retrieving the dataset as a .csv and converting it to a DataFrame"
   ]
  },
  {
   "cell_type": "code",
   "execution_count": 4,
   "metadata": {},
   "outputs": [],
   "source": [
    "dataset_id = 'quantite-de-dechets-produits-et-tries-par-habitant-et-par-an'\n",
    "export_url = f'https://opendata.paris.fr/api/explore/v2.1/catalog/datasets/{dataset_id}/exports/csv'\n",
    "params = {\"select\": \"*\"}\n",
    "\n",
    "# Downloading the csv of the full dataset\n",
    "response = requests.get(export_url, params=params)\n",
    "with open(f\"{dataset_id}_Paris_Data.csv\", \"wb\") as f:\n",
    "    f.write(response.content)\n",
    "\n",
    "# Converting the csv into a DataFrame\n",
    "df = pd.read_csv(f\"{dataset_id}_Paris_Data.csv\", sep=\";\")"
   ]
  },
  {
   "cell_type": "code",
   "execution_count": 5,
   "metadata": {},
   "outputs": [
    {
     "name": "stdout",
     "output_type": "stream",
     "text": [
      "<class 'pandas.core.frame.DataFrame'>\n",
      "RangeIndex: 25 entries, 0 to 24\n",
      "Data columns (total 4 columns):\n",
      " #   Column                          Non-Null Count  Dtype  \n",
      "---  ------                          --------------  -----  \n",
      " 0   annee                           25 non-null     int64  \n",
      " 1   type_de_dechets                 25 non-null     object \n",
      " 2   quantite                        25 non-null     float64\n",
      " 3   variation_annuelle_des_dechets  25 non-null     float64\n",
      "dtypes: float64(2), int64(1), object(1)\n",
      "memory usage: 932.0+ bytes\n"
     ]
    }
   ],
   "source": [
    "df.info()"
   ]
  },
  {
   "cell_type": "code",
   "execution_count": 6,
   "metadata": {},
   "outputs": [
    {
     "data": {
      "text/html": [
       "<div>\n",
       "<style scoped>\n",
       "    .dataframe tbody tr th:only-of-type {\n",
       "        vertical-align: middle;\n",
       "    }\n",
       "\n",
       "    .dataframe tbody tr th {\n",
       "        vertical-align: top;\n",
       "    }\n",
       "\n",
       "    .dataframe thead th {\n",
       "        text-align: right;\n",
       "    }\n",
       "</style>\n",
       "<table border=\"1\" class=\"dataframe\">\n",
       "  <thead>\n",
       "    <tr style=\"text-align: right;\">\n",
       "      <th></th>\n",
       "      <th>annee</th>\n",
       "      <th>type_de_dechets</th>\n",
       "      <th>quantite</th>\n",
       "      <th>variation_annuelle_des_dechets</th>\n",
       "    </tr>\n",
       "  </thead>\n",
       "  <tbody>\n",
       "    <tr>\n",
       "      <th>0</th>\n",
       "      <td>2019</td>\n",
       "      <td>♻️ Multimatériaux</td>\n",
       "      <td>40.0</td>\n",
       "      <td>0.0</td>\n",
       "    </tr>\n",
       "    <tr>\n",
       "      <th>1</th>\n",
       "      <td>2021</td>\n",
       "      <td>🗑️ Ordures ménagères résiduelles</td>\n",
       "      <td>300.0</td>\n",
       "      <td>4.0</td>\n",
       "    </tr>\n",
       "    <tr>\n",
       "      <th>2</th>\n",
       "      <td>2019</td>\n",
       "      <td>♻️ Emballages en verre</td>\n",
       "      <td>34.0</td>\n",
       "      <td>0.0</td>\n",
       "    </tr>\n",
       "    <tr>\n",
       "      <th>3</th>\n",
       "      <td>2020</td>\n",
       "      <td>♻️ Emballages en verre</td>\n",
       "      <td>29.0</td>\n",
       "      <td>-5.0</td>\n",
       "    </tr>\n",
       "    <tr>\n",
       "      <th>4</th>\n",
       "      <td>2022</td>\n",
       "      <td>♻️ Déchets occasionnels</td>\n",
       "      <td>61.0</td>\n",
       "      <td>11.0</td>\n",
       "    </tr>\n",
       "    <tr>\n",
       "      <th>5</th>\n",
       "      <td>2020</td>\n",
       "      <td>♻️ Déchets occasionnels</td>\n",
       "      <td>42.0</td>\n",
       "      <td>-6.0</td>\n",
       "    </tr>\n",
       "    <tr>\n",
       "      <th>6</th>\n",
       "      <td>2023</td>\n",
       "      <td>🗑️ Ordures ménagères résiduelles</td>\n",
       "      <td>307.0</td>\n",
       "      <td>-9.0</td>\n",
       "    </tr>\n",
       "    <tr>\n",
       "      <th>7</th>\n",
       "      <td>2022</td>\n",
       "      <td>♻️ Biodéchets</td>\n",
       "      <td>1.0</td>\n",
       "      <td>0.0</td>\n",
       "    </tr>\n",
       "    <tr>\n",
       "      <th>8</th>\n",
       "      <td>2020</td>\n",
       "      <td>♻️ Multimatériaux</td>\n",
       "      <td>34.0</td>\n",
       "      <td>-6.0</td>\n",
       "    </tr>\n",
       "    <tr>\n",
       "      <th>9</th>\n",
       "      <td>2023</td>\n",
       "      <td>♻️ Déchets occasionnels</td>\n",
       "      <td>44.0</td>\n",
       "      <td>-17.0</td>\n",
       "    </tr>\n",
       "  </tbody>\n",
       "</table>\n",
       "</div>"
      ],
      "text/plain": [
       "   annee                   type_de_dechets  quantite  \\\n",
       "0   2019                 ♻️ Multimatériaux      40.0   \n",
       "1   2021  🗑️ Ordures ménagères résiduelles     300.0   \n",
       "2   2019            ♻️ Emballages en verre      34.0   \n",
       "3   2020            ♻️ Emballages en verre      29.0   \n",
       "4   2022           ♻️ Déchets occasionnels      61.0   \n",
       "5   2020           ♻️ Déchets occasionnels      42.0   \n",
       "6   2023  🗑️ Ordures ménagères résiduelles     307.0   \n",
       "7   2022                     ♻️ Biodéchets       1.0   \n",
       "8   2020                 ♻️ Multimatériaux      34.0   \n",
       "9   2023           ♻️ Déchets occasionnels      44.0   \n",
       "\n",
       "   variation_annuelle_des_dechets  \n",
       "0                             0.0  \n",
       "1                             4.0  \n",
       "2                             0.0  \n",
       "3                            -5.0  \n",
       "4                            11.0  \n",
       "5                            -6.0  \n",
       "6                            -9.0  \n",
       "7                             0.0  \n",
       "8                            -6.0  \n",
       "9                           -17.0  "
      ]
     },
     "execution_count": 6,
     "metadata": {},
     "output_type": "execute_result"
    }
   ],
   "source": [
    "df.head(10)"
   ]
  },
  {
   "cell_type": "code",
   "execution_count": 7,
   "metadata": {},
   "outputs": [],
   "source": [
    "df.to_csv(f\"{dataset_id}_Paris_Data.csv\", sep=\";\", index=False)"
   ]
  }
 ],
 "metadata": {
  "kernelspec": {
   "display_name": ".venv",
   "language": "python",
   "name": "python3"
  },
  "language_info": {
   "codemirror_mode": {
    "name": "ipython",
    "version": 3
   },
   "file_extension": ".py",
   "mimetype": "text/x-python",
   "name": "python",
   "nbconvert_exporter": "python",
   "pygments_lexer": "ipython3",
   "version": "3.13.1"
  }
 },
 "nbformat": 4,
 "nbformat_minor": 2
}
