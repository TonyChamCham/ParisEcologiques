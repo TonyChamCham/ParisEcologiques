{
 "cells": [
  {
   "cell_type": "markdown",
   "metadata": {},
   "source": [
    "## Parisian population evolution from 2014 to 2024"
   ]
  },
  {
   "cell_type": "markdown",
   "metadata": {},
   "source": [
    "### Libs import"
   ]
  },
  {
   "cell_type": "code",
   "execution_count": 16,
   "metadata": {},
   "outputs": [],
   "source": [
    "import pandas as pd\n",
    "import json\n",
    "import requests"
   ]
  },
  {
   "cell_type": "markdown",
   "metadata": {},
   "source": [
    "### Testing the call to Melodi, Insee's API, checking response status code."
   ]
  },
  {
   "cell_type": "code",
   "execution_count": 17,
   "metadata": {},
   "outputs": [
    {
     "name": "stdout",
     "output_type": "stream",
     "text": [
      "200\n"
     ]
    }
   ],
   "source": [
    "url = \"https://api.insee.fr/melodi/data/DS_ESTIMATION_POPULATION\"\n",
    "parameters = {\"TIME_PERIOD\" : \"2025\", \"SEX\" : \"_T\", \"AGE\" : \"_T\", \"GEO\" : \"2023-DEP-75\"}\n",
    "response = requests.get(url, params=parameters)\n",
    "print(response.status_code)"
   ]
  },
  {
   "cell_type": "markdown",
   "metadata": {},
   "source": [
    "### Checking the JSON structure."
   ]
  },
  {
   "cell_type": "code",
   "execution_count": 18,
   "metadata": {},
   "outputs": [
    {
     "name": "stdout",
     "output_type": "stream",
     "text": [
      "{\n",
      "  \"identifier\": \"DS_ESTIMATION_POPULATION\",\n",
      "  \"title\": {\n",
      "    \"fr\": \"Les estimations de population\",\n",
      "    \"en\": \"Population estimate\"\n",
      "  },\n",
      "  \"publisher\": {\n",
      "    \"id\": \"INSEE\",\n",
      "    \"label\": [\n",
      "      {\n",
      "        \"lang\": \"fr\",\n",
      "        \"content\": \"Institut national de la statistique et des etudes economiques (INSEE)\"\n",
      "      },\n",
      "      {\n",
      "        \"lang\": \"en\",\n",
      "        \"content\": \"National Institute of Statistics and Economic Studies\"\n",
      "      }\n",
      "    ]\n",
      "  },\n",
      "  \"observations\": [\n",
      "    {\n",
      "      \"dimensions\": {\n",
      "        \"GEO\": \"2023-DEP-75\",\n",
      "        \"SEX\": \"_T\",\n",
      "        \"TIME_PERIOD\": \"2025\",\n",
      "        \"EP_MEASURE\": \"POP\",\n",
      "        \"AGE\": \"_T\"\n",
      "      },\n",
      "      \"attributes\": {\n",
      "        \"OBS_STATUS_FR\": \"PROV\"\n",
      "      },\n",
      "      \"measures\": {\n",
      "        \"OBS_VALUE_NIVEAU\": {\n",
      "          \"value\": 2048472.0\n",
      "        }\n",
      "      }\n",
      "    }\n",
      "  ],\n",
      "  \"paging\": {}\n",
      "}\n"
     ]
    }
   ],
   "source": [
    "print(json.dumps(response.json(), indent=2, ensure_ascii=False))"
   ]
  },
  {
   "cell_type": "markdown",
   "metadata": {},
   "source": [
    "### DataFrame creation based on the JSON structure from API."
   ]
  },
  {
   "cell_type": "code",
   "execution_count": 19,
   "metadata": {},
   "outputs": [
    {
     "name": "stdout",
     "output_type": "stream",
     "text": [
      "           GEO SEX TIME_PERIOD EP_MEASURE AGE OBS_STATUS_FR  OBS_VALUE_NIVEAU\n",
      "0  2023-DEP-75  _T        2025        POP  _T          PROV         2048472.0\n"
     ]
    }
   ],
   "source": [
    "# Extracting list of observations/values\n",
    "observations = response.json()[\"observations\"]\n",
    "\n",
    "# Unfolding each value to merge them into a list\n",
    "flat_obs = []\n",
    "for obs in observations:\n",
    "    # Merging the three sub-dictionaries into one\n",
    "    merged = {}\n",
    "    merged.update(obs.get(\"dimensions\", {}))\n",
    "    merged.update(obs.get(\"attributes\", {}))\n",
    "    # For the last dictionary, checking for possible multiple values\n",
    "    for k, v in obs.get(\"measures\", {}).items():\n",
    "        # if the value is a dictionary, keeping only the value\n",
    "        if isinstance(v, dict) and \"value\" in v:\n",
    "            merged[k] = v[\"value\"]\n",
    "        else:\n",
    "            merged[k] = v\n",
    "    flat_obs.append(merged)\n",
    "\n",
    "# Dataframe creation from the list of unfold values\n",
    "df = pd.DataFrame(flat_obs)\n",
    "print(df)"
   ]
  },
  {
   "cell_type": "code",
   "execution_count": 20,
   "metadata": {},
   "outputs": [
    {
     "name": "stdout",
     "output_type": "stream",
     "text": [
      "<class 'pandas.core.frame.DataFrame'>\n",
      "RangeIndex: 1 entries, 0 to 0\n",
      "Data columns (total 7 columns):\n",
      " #   Column            Non-Null Count  Dtype  \n",
      "---  ------            --------------  -----  \n",
      " 0   GEO               1 non-null      object \n",
      " 1   SEX               1 non-null      object \n",
      " 2   TIME_PERIOD       1 non-null      object \n",
      " 3   EP_MEASURE        1 non-null      object \n",
      " 4   AGE               1 non-null      object \n",
      " 5   OBS_STATUS_FR     1 non-null      object \n",
      " 6   OBS_VALUE_NIVEAU  1 non-null      float64\n",
      "dtypes: float64(1), object(6)\n",
      "memory usage: 188.0+ bytes\n",
      "None\n"
     ]
    }
   ],
   "source": [
    "print(df.info())"
   ]
  },
  {
   "cell_type": "markdown",
   "metadata": {},
   "source": [
    "### Duplicating the process for more data (data over a 10 years period (2014-2024), total population segmented by age)"
   ]
  },
  {
   "cell_type": "code",
   "execution_count": 22,
   "metadata": {},
   "outputs": [
    {
     "name": "stdout",
     "output_type": "stream",
     "text": [
      "   TIME_PERIOD     AGE  OBS_VALUE_NIVEAU\n",
      "0         2024  Y60T74          298997.0\n",
      "1         2015  Y30T34          185264.0\n",
      "2         2017  Y75T79           59830.0\n",
      "3         2021  Y85T89           33891.0\n",
      "4         2023  Y40T59          519723.0\n",
      "5         2024  Y20T39          704291.0\n",
      "6         2015  Y45T49          141784.0\n",
      "7         2020  Y30T34          191128.0\n",
      "8         2017  Y65T69          111590.0\n",
      "9         2020  Y70T74           98368.0\n",
      "10        2018   Y_LT5          106798.0\n",
      "11        2022    Y5T9           87962.0\n",
      "12        2019  Y60T64          112014.0\n",
      "13        2016  Y55T59          123982.0\n",
      "14        2016  Y85T89           34384.0\n",
      "15        2020  Y_GE75          173278.0\n",
      "16        2019    Y5T9           97316.0\n",
      "17        2019  Y50T54          134473.0\n",
      "18        2018  Y45T49          141500.0\n",
      "19        2018  Y20T39          733438.0\n",
      "20        2017  Y70T74           83308.0\n",
      "21        2023  Y60T74          302952.0\n",
      "22        2017    Y5T9          100552.0\n",
      "23        2018  Y_LT20          417262.0\n",
      "24        2014  Y_GE75          167006.0\n",
      "25        2016      _T         2190327.0\n",
      "26        2016  Y15T19          114405.0\n",
      "27        2023  Y45T49          129796.0\n",
      "28        2015    Y5T9          103950.0\n",
      "29        2022  Y45T49          134210.0\n",
      "30        2021  Y40T44          137931.0\n",
      "31        2024  Y60T64          111979.0\n",
      "32        2016  Y35T39          158039.0\n",
      "33        2019  Y_GE95            6498.0\n",
      "34        2014  Y10T14           99845.0\n",
      "35        2018  Y70T74           89058.0\n",
      "36        2014  Y90T94           17692.0\n",
      "37        2021  Y_GE95            7708.0\n",
      "38        2018  Y30T34          179729.0\n",
      "39        2022   Y_LT5           90094.0\n",
      "40        2019  Y_LT20          410686.0\n",
      "41        2017  Y30T34          180171.0\n",
      "42        2022  Y20T24          173673.0\n",
      "43        2020  Y45T49          141642.0\n",
      "44        2017  Y55T59          124021.0\n",
      "45        2023   Y_LT5           87057.0\n",
      "46        2017  Y10T14           98049.0\n",
      "47        2020  Y20T39          715136.0\n",
      "48        2015  Y55T59          124622.0\n",
      "49        2014  Y70T74           72878.0\n"
     ]
    }
   ],
   "source": [
    "url = \"https://api.insee.fr/melodi/data/DS_ESTIMATION_POPULATION\"\n",
    "parameters = {\"TIME_PERIOD\" : [\"2014\", \"2015\", \"2016\", \"2017\", \"2018\", \"2019\", \"2020\", \"2021\", \"2022\", \"2023\", \"2024\"], \"SEX\" : \"_T\", \"GEO\" : \"2023-DEP-75\", \"maxResult\" : 10000}\n",
    "\n",
    "response = requests.get(url, params=parameters)\n",
    "# Extracting list of observations/values\n",
    "observations = response.json()[\"observations\"]\n",
    "\n",
    "# Unfolding each value to merge them into a list\n",
    "flat_obs = []\n",
    "for obs in observations:\n",
    "    # Merging the three sub-dictionaries into one\n",
    "    merged = {}\n",
    "    merged.update(obs.get(\"dimensions\", {}))\n",
    "    merged.update(obs.get(\"attributes\", {}))\n",
    "    # For the last dictionary, checking for possible multiple values\n",
    "    for k, v in obs.get(\"measures\", {}).items():\n",
    "        # if the value is a dictionary, keeping only the value\n",
    "        if isinstance(v, dict) and \"value\" in v:\n",
    "            merged[k] = v[\"value\"]\n",
    "        else:\n",
    "            merged[k] = v\n",
    "    flat_obs.append(merged)\n",
    "\n",
    "# Dataframe creation from the list of unfold values\n",
    "df = pd.DataFrame(flat_obs)\n",
    "df = df[[\"TIME_PERIOD\", \"AGE\", \"OBS_VALUE_NIVEAU\"]]\n",
    "print(df.head(50))"
   ]
  },
  {
   "cell_type": "markdown",
   "metadata": {},
   "source": [
    "### Saving the results to a csv"
   ]
  },
  {
   "cell_type": "code",
   "execution_count": 23,
   "metadata": {},
   "outputs": [],
   "source": [
    "df.to_csv(\"estimation-de-la-population_Insee.csv\", sep=\";\", index=False)"
   ]
  }
 ],
 "metadata": {
  "kernelspec": {
   "display_name": ".venv",
   "language": "python",
   "name": "python3"
  },
  "language_info": {
   "codemirror_mode": {
    "name": "ipython",
    "version": 3
   },
   "file_extension": ".py",
   "mimetype": "text/x-python",
   "name": "python",
   "nbconvert_exporter": "python",
   "pygments_lexer": "ipython3",
   "version": "3.13.1"
  }
 },
 "nbformat": 4,
 "nbformat_minor": 2
}
