{
 "cells": [
  {
   "cell_type": "markdown",
   "metadata": {},
   "source": [
    "## Inventory of greenhouse gas emissions of the Parisian territory (2014 and from 2018 to 2022)."
   ]
  },
  {
   "cell_type": "markdown",
   "metadata": {},
   "source": [
    "### Importing libraries"
   ]
  },
  {
   "cell_type": "code",
   "execution_count": 1,
   "metadata": {},
   "outputs": [],
   "source": [
    "import pandas as pd\n",
    "import requests "
   ]
  },
  {
   "cell_type": "markdown",
   "metadata": {},
   "source": [
    "### Connecting to Paris Data's API (and testing the response's status code)"
   ]
  },
  {
   "cell_type": "code",
   "execution_count": 2,
   "metadata": {},
   "outputs": [
    {
     "data": {
      "text/plain": [
       "200"
      ]
     },
     "execution_count": 2,
     "metadata": {},
     "output_type": "execute_result"
    }
   ],
   "source": [
    "params = {\"select\":\"*\"}\n",
    "response = requests.get('https://opendata.paris.fr/api/explore/v2.1/catalog/datasets/inventaire-des-emissions-de-gaz-a-effet-de-serre-du-territoire/records?', params=params)\n",
    "response.status_code"
   ]
  },
  {
   "cell_type": "code",
   "execution_count": 3,
   "metadata": {},
   "outputs": [
    {
     "name": "stdout",
     "output_type": "stream",
     "text": [
      "<class 'pandas.core.frame.DataFrame'>\n",
      "RangeIndex: 7 entries, 0 to 6\n",
      "Data columns (total 18 columns):\n",
      " #   Column                                        Non-Null Count  Dtype  \n",
      "---  ------                                        --------------  -----  \n",
      " 0   annee                                         7 non-null      object \n",
      " 1   ges_grd_secteurs_total                        7 non-null      float64\n",
      " 2   ges_grd_secteurs_energie                      7 non-null      float64\n",
      " 3   ges_grd_secteurs_transport                    7 non-null      float64\n",
      " 4   ges_grd_secteurs_consommation                 7 non-null      float64\n",
      " 5   ges_detail_locales_total                      7 non-null      float64\n",
      " 6   ges_detail_locales_residentiel                7 non-null      float64\n",
      " 7   ges_detail_locales_tertiaire                  7 non-null      float64\n",
      " 8   ges_detail_locales_industrie                  7 non-null      float64\n",
      " 9   ges_detail_locales_transport                  7 non-null      float64\n",
      " 10  ges_detail_locales_dechets                    7 non-null      float64\n",
      " 11  ges_detail_hors_paris_total                   7 non-null      float64\n",
      " 12  ges_detail_hors_paris_construction_materiaux  7 non-null      float64\n",
      " 13  ges_detail_hors_paris_transport               7 non-null      float64\n",
      " 14  ges_detail_hors_paris_transport_aerien        7 non-null      float64\n",
      " 15  ges_detail_hors_paris_alimentation            7 non-null      float64\n",
      " 16  ges_detail_hors_paris_amont_energie           7 non-null      float64\n",
      " 17  evolution                                     6 non-null      float64\n",
      "dtypes: float64(17), object(1)\n",
      "memory usage: 1.1+ KB\n"
     ]
    }
   ],
   "source": [
    "pd.DataFrame(response.json()[\"results\"]).info()"
   ]
  },
  {
   "cell_type": "markdown",
   "metadata": {},
   "source": [
    "### Retrieving the dataset as a .csv and converting it to a DataFrame"
   ]
  },
  {
   "cell_type": "code",
   "execution_count": 4,
   "metadata": {},
   "outputs": [],
   "source": [
    "dataset_id = 'inventaire-des-emissions-de-gaz-a-effet-de-serre-du-territoire'\n",
    "export_url = f'https://opendata.paris.fr/api/explore/v2.1/catalog/datasets/{dataset_id}/exports/csv'\n",
    "params = {\"select\": \"annee, ges_grd_secteurs_total, ges_grd_secteurs_energie, ges_detail_locales_total, ges_detail_hors_paris_total, ges_detail_hors_paris_amont_energie\"}\n",
    "\n",
    "# Downloading the csv of the full dataset\n",
    "response = requests.get(export_url, params=params)\n",
    "with open(f\"{dataset_id}_Paris_Data.csv\", \"wb\") as f:\n",
    "    f.write(response.content)\n",
    "\n",
    "# Converting the csv into a DataFrame\n",
    "df = pd.read_csv(f\"{dataset_id}_Paris_Data.csv\", sep=\";\")"
   ]
  },
  {
   "cell_type": "code",
   "execution_count": 5,
   "metadata": {},
   "outputs": [
    {
     "name": "stdout",
     "output_type": "stream",
     "text": [
      "<class 'pandas.core.frame.DataFrame'>\n",
      "RangeIndex: 7 entries, 0 to 6\n",
      "Data columns (total 6 columns):\n",
      " #   Column                               Non-Null Count  Dtype  \n",
      "---  ------                               --------------  -----  \n",
      " 0   annee                                7 non-null      int64  \n",
      " 1   ges_grd_secteurs_total               7 non-null      float64\n",
      " 2   ges_grd_secteurs_energie             7 non-null      float64\n",
      " 3   ges_detail_locales_total             7 non-null      float64\n",
      " 4   ges_detail_hors_paris_total          7 non-null      float64\n",
      " 5   ges_detail_hors_paris_amont_energie  7 non-null      float64\n",
      "dtypes: float64(5), int64(1)\n",
      "memory usage: 468.0 bytes\n"
     ]
    }
   ],
   "source": [
    "df.info()"
   ]
  },
  {
   "cell_type": "code",
   "execution_count": 6,
   "metadata": {},
   "outputs": [
    {
     "data": {
      "text/html": [
       "<div>\n",
       "<style scoped>\n",
       "    .dataframe tbody tr th:only-of-type {\n",
       "        vertical-align: middle;\n",
       "    }\n",
       "\n",
       "    .dataframe tbody tr th {\n",
       "        vertical-align: top;\n",
       "    }\n",
       "\n",
       "    .dataframe thead th {\n",
       "        text-align: right;\n",
       "    }\n",
       "</style>\n",
       "<table border=\"1\" class=\"dataframe\">\n",
       "  <thead>\n",
       "    <tr style=\"text-align: right;\">\n",
       "      <th></th>\n",
       "      <th>annee</th>\n",
       "      <th>ges_grd_secteurs_total</th>\n",
       "      <th>ges_grd_secteurs_energie</th>\n",
       "      <th>ges_detail_locales_total</th>\n",
       "      <th>ges_detail_hors_paris_total</th>\n",
       "      <th>ges_detail_hors_paris_amont_energie</th>\n",
       "    </tr>\n",
       "  </thead>\n",
       "  <tbody>\n",
       "    <tr>\n",
       "      <th>0</th>\n",
       "      <td>2020</td>\n",
       "      <td>17.20</td>\n",
       "      <td>4.5</td>\n",
       "      <td>4.70</td>\n",
       "      <td>12.50</td>\n",
       "      <td>1.10</td>\n",
       "    </tr>\n",
       "    <tr>\n",
       "      <th>1</th>\n",
       "      <td>2004</td>\n",
       "      <td>28.30</td>\n",
       "      <td>6.2</td>\n",
       "      <td>7.40</td>\n",
       "      <td>20.90</td>\n",
       "      <td>1.50</td>\n",
       "    </tr>\n",
       "    <tr>\n",
       "      <th>2</th>\n",
       "      <td>2018</td>\n",
       "      <td>22.60</td>\n",
       "      <td>4.9</td>\n",
       "      <td>5.30</td>\n",
       "      <td>17.40</td>\n",
       "      <td>1.30</td>\n",
       "    </tr>\n",
       "    <tr>\n",
       "      <th>3</th>\n",
       "      <td>2021</td>\n",
       "      <td>18.54</td>\n",
       "      <td>4.5</td>\n",
       "      <td>4.82</td>\n",
       "      <td>13.72</td>\n",
       "      <td>1.14</td>\n",
       "    </tr>\n",
       "    <tr>\n",
       "      <th>4</th>\n",
       "      <td>2014</td>\n",
       "      <td>24.40</td>\n",
       "      <td>5.2</td>\n",
       "      <td>6.00</td>\n",
       "      <td>18.40</td>\n",
       "      <td>1.30</td>\n",
       "    </tr>\n",
       "    <tr>\n",
       "      <th>5</th>\n",
       "      <td>2019</td>\n",
       "      <td>22.00</td>\n",
       "      <td>4.7</td>\n",
       "      <td>5.30</td>\n",
       "      <td>16.70</td>\n",
       "      <td>1.30</td>\n",
       "    </tr>\n",
       "    <tr>\n",
       "      <th>6</th>\n",
       "      <td>2022</td>\n",
       "      <td>19.27</td>\n",
       "      <td>4.3</td>\n",
       "      <td>4.72</td>\n",
       "      <td>14.55</td>\n",
       "      <td>1.10</td>\n",
       "    </tr>\n",
       "  </tbody>\n",
       "</table>\n",
       "</div>"
      ],
      "text/plain": [
       "   annee  ges_grd_secteurs_total  ges_grd_secteurs_energie  \\\n",
       "0   2020                   17.20                       4.5   \n",
       "1   2004                   28.30                       6.2   \n",
       "2   2018                   22.60                       4.9   \n",
       "3   2021                   18.54                       4.5   \n",
       "4   2014                   24.40                       5.2   \n",
       "5   2019                   22.00                       4.7   \n",
       "6   2022                   19.27                       4.3   \n",
       "\n",
       "   ges_detail_locales_total  ges_detail_hors_paris_total  \\\n",
       "0                      4.70                        12.50   \n",
       "1                      7.40                        20.90   \n",
       "2                      5.30                        17.40   \n",
       "3                      4.82                        13.72   \n",
       "4                      6.00                        18.40   \n",
       "5                      5.30                        16.70   \n",
       "6                      4.72                        14.55   \n",
       "\n",
       "   ges_detail_hors_paris_amont_energie  \n",
       "0                                 1.10  \n",
       "1                                 1.50  \n",
       "2                                 1.30  \n",
       "3                                 1.14  \n",
       "4                                 1.30  \n",
       "5                                 1.30  \n",
       "6                                 1.10  "
      ]
     },
     "execution_count": 6,
     "metadata": {},
     "output_type": "execute_result"
    }
   ],
   "source": [
    "df.head(10)"
   ]
  },
  {
   "cell_type": "markdown",
   "metadata": {},
   "source": [
    "### Getting rid of years prior 2014"
   ]
  },
  {
   "cell_type": "code",
   "execution_count": 7,
   "metadata": {},
   "outputs": [
    {
     "data": {
      "text/html": [
       "<div>\n",
       "<style scoped>\n",
       "    .dataframe tbody tr th:only-of-type {\n",
       "        vertical-align: middle;\n",
       "    }\n",
       "\n",
       "    .dataframe tbody tr th {\n",
       "        vertical-align: top;\n",
       "    }\n",
       "\n",
       "    .dataframe thead th {\n",
       "        text-align: right;\n",
       "    }\n",
       "</style>\n",
       "<table border=\"1\" class=\"dataframe\">\n",
       "  <thead>\n",
       "    <tr style=\"text-align: right;\">\n",
       "      <th></th>\n",
       "      <th>annee</th>\n",
       "      <th>ges_grd_secteurs_total</th>\n",
       "      <th>ges_grd_secteurs_energie</th>\n",
       "      <th>ges_detail_locales_total</th>\n",
       "      <th>ges_detail_hors_paris_total</th>\n",
       "      <th>ges_detail_hors_paris_amont_energie</th>\n",
       "    </tr>\n",
       "  </thead>\n",
       "  <tbody>\n",
       "    <tr>\n",
       "      <th>0</th>\n",
       "      <td>2020</td>\n",
       "      <td>17.20</td>\n",
       "      <td>4.5</td>\n",
       "      <td>4.70</td>\n",
       "      <td>12.50</td>\n",
       "      <td>1.10</td>\n",
       "    </tr>\n",
       "    <tr>\n",
       "      <th>2</th>\n",
       "      <td>2018</td>\n",
       "      <td>22.60</td>\n",
       "      <td>4.9</td>\n",
       "      <td>5.30</td>\n",
       "      <td>17.40</td>\n",
       "      <td>1.30</td>\n",
       "    </tr>\n",
       "    <tr>\n",
       "      <th>3</th>\n",
       "      <td>2021</td>\n",
       "      <td>18.54</td>\n",
       "      <td>4.5</td>\n",
       "      <td>4.82</td>\n",
       "      <td>13.72</td>\n",
       "      <td>1.14</td>\n",
       "    </tr>\n",
       "    <tr>\n",
       "      <th>4</th>\n",
       "      <td>2014</td>\n",
       "      <td>24.40</td>\n",
       "      <td>5.2</td>\n",
       "      <td>6.00</td>\n",
       "      <td>18.40</td>\n",
       "      <td>1.30</td>\n",
       "    </tr>\n",
       "    <tr>\n",
       "      <th>5</th>\n",
       "      <td>2019</td>\n",
       "      <td>22.00</td>\n",
       "      <td>4.7</td>\n",
       "      <td>5.30</td>\n",
       "      <td>16.70</td>\n",
       "      <td>1.30</td>\n",
       "    </tr>\n",
       "    <tr>\n",
       "      <th>6</th>\n",
       "      <td>2022</td>\n",
       "      <td>19.27</td>\n",
       "      <td>4.3</td>\n",
       "      <td>4.72</td>\n",
       "      <td>14.55</td>\n",
       "      <td>1.10</td>\n",
       "    </tr>\n",
       "  </tbody>\n",
       "</table>\n",
       "</div>"
      ],
      "text/plain": [
       "   annee  ges_grd_secteurs_total  ges_grd_secteurs_energie  \\\n",
       "0   2020                   17.20                       4.5   \n",
       "2   2018                   22.60                       4.9   \n",
       "3   2021                   18.54                       4.5   \n",
       "4   2014                   24.40                       5.2   \n",
       "5   2019                   22.00                       4.7   \n",
       "6   2022                   19.27                       4.3   \n",
       "\n",
       "   ges_detail_locales_total  ges_detail_hors_paris_total  \\\n",
       "0                      4.70                        12.50   \n",
       "2                      5.30                        17.40   \n",
       "3                      4.82                        13.72   \n",
       "4                      6.00                        18.40   \n",
       "5                      5.30                        16.70   \n",
       "6                      4.72                        14.55   \n",
       "\n",
       "   ges_detail_hors_paris_amont_energie  \n",
       "0                                 1.10  \n",
       "2                                 1.30  \n",
       "3                                 1.14  \n",
       "4                                 1.30  \n",
       "5                                 1.30  \n",
       "6                                 1.10  "
      ]
     },
     "execution_count": 7,
     "metadata": {},
     "output_type": "execute_result"
    }
   ],
   "source": [
    "df = df[df[\"annee\"] >= 2014]\n",
    "df.head(10)"
   ]
  },
  {
   "cell_type": "code",
   "execution_count": 8,
   "metadata": {},
   "outputs": [],
   "source": [
    "df.to_csv(f\"{dataset_id}_Paris_Data.csv\", sep=\";\", index=False)"
   ]
  }
 ],
 "metadata": {
  "kernelspec": {
   "display_name": ".venv",
   "language": "python",
   "name": "python3"
  },
  "language_info": {
   "codemirror_mode": {
    "name": "ipython",
    "version": 3
   },
   "file_extension": ".py",
   "mimetype": "text/x-python",
   "name": "python",
   "nbconvert_exporter": "python",
   "pygments_lexer": "ipython3",
   "version": "3.13.1"
  }
 },
 "nbformat": 4,
 "nbformat_minor": 2
}
