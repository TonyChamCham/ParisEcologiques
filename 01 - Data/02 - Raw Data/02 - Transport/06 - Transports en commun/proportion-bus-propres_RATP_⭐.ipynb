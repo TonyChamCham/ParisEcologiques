{
 "cells": [
  {
   "cell_type": "markdown",
   "metadata": {},
   "source": [
    "## Share of clean buses in the RATP's Ile-de-France (Paris and its suburbian ring) and Paris fleet between 2014 and 2024."
   ]
  },
  {
   "cell_type": "markdown",
   "metadata": {},
   "source": [
    "Data is not available as structured data but only in reports, websites, and informational documents.<br>\n",
    "For this reason, data has been manually scraped from those different sources and structured to obtained a year-by-year frame.<br>\n",
    "The results are sometimes approximated as the different sources are not always precise. Context is sometimes lacking for some of the available numbers.\n",
    "\n",
    "Missing data has been replaced thanks to linear interpolation in most cases.<br>\n",
    "While some precise numbers for circulating buses in 2025 are available on Wikipedia and TC Info, the numbers from the Bus2025 project of RATP and IDF-Mobilités are essentially based on projected/planned numbers. For this reason, I've decided to separate those sources and data and create three DataFrames: one for planned numbers, one for a more realistic state of the fleet in Ile-de-France, and then a third one for the state of the Paris-only fleet."
   ]
  },
  {
   "cell_type": "markdown",
   "metadata": {},
   "source": [
    "### Importing Pandas."
   ]
  },
  {
   "cell_type": "code",
   "execution_count": 1,
   "metadata": {},
   "outputs": [],
   "source": [
    "import pandas as pd"
   ]
  },
  {
   "cell_type": "markdown",
   "metadata": {},
   "source": [
    "### Creation of the DataFrame based on 2014 RATP's projected numbers for Ile-de-France (Paris and suburbian area), announced for 2015 COP21.\n",
    "##### Missing numbers are linearly interpolated."
   ]
  },
  {
   "cell_type": "markdown",
   "metadata": {},
   "source": [
    "#### Sources: <br>\n",
    "http://www.amutc.fr/pdf3/BUS_RATP_BUS2025_FICHES_A4_ed3_150526.pdf<br>\n",
    "https://ratpgroup.com/fr/engagements-responsabilite-sociale-environnementale/programme-conversion-bus/<br>\n",
    "https://www.transportshaker-wavestone.com/bus-2025-un-parc-100-ecologique-dici-2025-pour-la-ratp/\n"
   ]
  },
  {
   "cell_type": "code",
   "execution_count": 3,
   "metadata": {},
   "outputs": [
    {
     "name": "stdout",
     "output_type": "stream",
     "text": [
      "   Année  Total bus  Bus écologiques  Part écologiques (%)  \\\n",
      "0   2014       4700              100                     2   \n",
      "1   2018       4700              470                    10   \n",
      "2   2020       4700              940                    20   \n",
      "3   2022       4700             1739                    37   \n",
      "4   2024       4700             2350                    50   \n",
      "\n",
      "   Bus non-écologiques  Part non-écologiques (%)  \\\n",
      "0                 4600                        98   \n",
      "1                 4230                        90   \n",
      "2                 3760                        80   \n",
      "3                 2961                        63   \n",
      "4                 2350                        50   \n",
      "\n",
      "                         Détail écologiques  \n",
      "0                                  Hybrides  \n",
      "1  Hybrides, premiers électriques et biogaz  \n",
      "2             Hybrides, électriques, biogaz  \n",
      "3             Hybrides, électriques, biogaz  \n",
      "4             Hybrides, électriques, biogaz  \n"
     ]
    }
   ],
   "source": [
    "\n",
    "data_1 = [\n",
    "    {\"Year\": 2014, \"Total Buses\": 4500, \"Hybrid Buses\": 46, \"Hybrid Share (%)\": 1.02, \"Biomethane Buses\": 90, \"Biomethane Share (%)\": 2.00, \"Electrical Buses\": 0, \"Electrical Share (%)\": 0.00, \"Hydrogen Buses\": 0, \"Hydrogen Share (%)\": 0.00, \"Total Ecological Buses\": 136, \"Ecological Share (%)\": 3.00, \"Non-Ecological Buses (diesel)\": 4364, \"Non-Ecological Share (%)\": 97.00},\n",
    "    {\"Year\": 2015, \"Total Buses\": 4520, \"Hybrid Buses\": 383, \"Hybrid Share (%)\": 8.47, \"Biomethane Buses\": 110, \"Biomethane Share (%)\": 2.43, \"Electrical Buses\": 0, \"Electrical Share (%)\": 0.00, \"Hydrogen Buses\": 0, \"Hydrogen Share (%)\": 0.00, \"Total Ecological Buses\": 493, \"Ecological Share (%)\": 10.91, \"Non-Ecological Buses (diesel)\": 4027, \"Non-Ecological Share (%)\": 89.09},\n",
    "    {\"Year\": 2016, \"Total Buses\": 4540, \"Hybrid Buses\": 550, \"Hybrid Share (%)\": 12.11, \"Biomethane Buses\": 130, \"Biomethane Share (%)\": 2.86, \"Electrical Buses\": 20, \"Electrical Share (%)\": 0.44, \"Hydrogen Buses\": 0, \"Hydrogen Share (%)\": 0.00, \"Total Ecological Buses\": 700, \"Ecological Share (%)\": 15.42, \"Non-Ecological Buses (diesel)\": 3840, \"Non-Ecological Share (%)\": 84.58},\n",
    "    {\"Year\": 2017, \"Total Buses\": 4560, \"Hybrid Buses\": 750, \"Hybrid Share (%)\": 16.45, \"Biomethane Buses\": 165, \"Biomethane Share (%)\": 3.62, \"Electrical Buses\": 55, \"Electrical Share (%)\": 1.21, \"Hydrogen Buses\": 0, \"Hydrogen Share (%)\": 0.00, \"Total Ecological Buses\": 970, \"Ecological Share (%)\": 21.27, \"Non-Ecological Buses (diesel)\": 3590, \"Non-Ecological Share (%)\": 78.73},\n",
    "    {\"Year\": 2018, \"Total Buses\": 4580, \"Hybrid Buses\": 985, \"Hybrid Share (%)\": 21.51, \"Biomethane Buses\": 200, \"Biomethane Share (%)\": 4.37, \"Electrical Buses\": 85, \"Electrical Share (%)\": 1.86, \"Hydrogen Buses\": 0, \"Hydrogen Share (%)\": 0.00, \"Total Ecological Buses\": 1270, \"Ecological Share (%)\": 27.73, \"Non-Ecological Buses (diesel)\": 3310, \"Non-Ecological Share (%)\": 72.27},\n",
    "    {\"Year\": 2019, \"Total Buses\": 4600, \"Hybrid Buses\": 1221, \"Hybrid Share (%)\": 26.54, \"Biomethane Buses\": 548, \"Biomethane Share (%)\": 11.91, \"Electrical Buses\": 431, \"Electrical Share (%)\": 9.37, \"Hydrogen Buses\": 0, \"Hydrogen Share (%)\": 0.00, \"Total Ecological Buses\": 2200, \"Ecological Share (%)\": 47.83, \"Non-Ecological Buses (diesel)\": 2400, \"Non-Ecological Share (%)\": 52.17},\n",
    "    {\"Year\": 2020, \"Total Buses\": 4620, \"Hybrid Buses\": 1455, \"Hybrid Share (%)\": 31.49, \"Biomethane Buses\": 696, \"Biomethane Share (%)\": 15.06, \"Electrical Buses\": 548, \"Electrical Share (%)\": 11.86, \"Hydrogen Buses\": 1, \"Hydrogen Share (%)\": 0.02, \"Total Ecological Buses\": 2700, \"Ecological Share (%)\": 58.44, \"Non-Ecological Buses (diesel)\": 1920, \"Non-Ecological Share (%)\": 41.56},\n",
    "    {\"Year\": 2021, \"Total Buses\": 4640, \"Hybrid Buses\": 1691, \"Hybrid Share (%)\": 36.44, \"Biomethane Buses\": 844, \"Biomethane Share (%)\": 18.19, \"Electrical Buses\": 664, \"Electrical Share (%)\": 14.31, \"Hydrogen Buses\": 1, \"Hydrogen Share (%)\": 0.02, \"Total Ecological Buses\": 3200, \"Ecological Share (%)\": 68.97, \"Non-Ecological Buses (diesel)\": 1440, \"Non-Ecological Share (%)\": 31.03},\n",
    "    {\"Year\": 2022, \"Total Buses\": 4660, \"Hybrid Buses\": 1926, \"Hybrid Share (%)\": 41.33, \"Biomethane Buses\": 993, \"Biomethane Share (%)\": 21.31, \"Electrical Buses\": 780, \"Electrical Share (%)\": 16.74, \"Hydrogen Buses\": 1, \"Hydrogen Share (%)\": 0.02, \"Total Ecological Buses\": 3700, \"Ecological Share (%)\": 79.40, \"Non-Ecological Buses (diesel)\": 960, \"Non-Ecological Share (%)\": 20.60},\n",
    "    {\"Year\": 2023, \"Total Buses\": 4680, \"Hybrid Buses\": 2162, \"Hybrid Share (%)\": 46.20, \"Biomethane Buses\": 1141, \"Biomethane Share (%)\": 24.38, \"Electrical Buses\": 896, \"Electrical Share (%)\": 19.15, \"Hydrogen Buses\": 1, \"Hydrogen Share (%)\": 0.02, \"Total Ecological Buses\": 4200, \"Ecological Share (%)\": 89.74, \"Non-Ecological Buses (diesel)\": 480, \"Non-Ecological Share (%)\": 10.26},\n",
    "    {\"Year\": 2024, \"Total Buses\": 4700, \"Hybrid Buses\": 2399, \"Hybrid Share (%)\": 51.04, \"Biomethane Buses\": 1300, \"Biomethane Share (%)\": 27.66, \"Electrical Buses\": 1000, \"Electrical Share (%)\": 21.28, \"Hydrogen Buses\": 1, \"Hydrogen Share (%)\": 0.02, \"Total Ecological Buses\": 4700, \"Ecological Share (%)\": 100.00, \"Non-Ecological Buses (diesel)\": 0, \"Non-Ecological Share (%)\": 0},\n",
    "]\n",
    "\n",
    "df_bus2025 = pd.DataFrame(data_1)\n",
    "print(df_bus2025)"
   ]
  },
  {
   "cell_type": "markdown",
   "metadata": {},
   "source": [
    "### Creation of the DataFrame based on RATP's active vehicles in Ile-de-France (includes Paris and its suburbs)."
   ]
  },
  {
   "cell_type": "markdown",
   "metadata": {},
   "source": [
    "Data is a mix of observed data and interpolated data.<br>\n",
    "The created table with interpolated data (Google Sheet) can be accessed here (Ile-de-France tab): https://docs.google.com/spreadsheets/d/1IwLV9PPNSNZnBoWbjC1sq3CvB4_2Q8l29XRxIQh0kKk/"
   ]
  },
  {
   "cell_type": "code",
   "execution_count": 3,
   "metadata": {},
   "outputs": [
    {
     "name": "stdout",
     "output_type": "stream",
     "text": [
      "    Year  Total Buses  Hybrid Buses  Hybrid Share (%)  Biomethane Buses  \\\n",
      "0   2014         4762           141              2.96                 0   \n",
      "1   2015         4778           347              7.26                36   \n",
      "2   2016         4793           552             11.52                72   \n",
      "3   2017         4809           757             15.74               138   \n",
      "4   2018         4825           933             19.34               281   \n",
      "5   2019         4841          1051             21.71               437   \n",
      "6   2020         4858          1103             22.70               593   \n",
      "7   2021         4874          1113             22.83               754   \n",
      "8   2022         4890          1128             23.07               912   \n",
      "9   2023         4906          1227             25.01               989   \n",
      "10  2024         4922          1326             26.94              1065   \n",
      "\n",
      "    Biomethane Share (%)  Electrical Buses  Electrical Share (%)  \\\n",
      "0                   0.00                 0                  0.00   \n",
      "1                   0.75                 8                  0.17   \n",
      "2                   1.50                55                  1.15   \n",
      "3                   2.87                93                  1.93   \n",
      "4                   5.82               203                  4.21   \n",
      "5                   9.03               312                  6.44   \n",
      "6                  12.21               420                  8.65   \n",
      "7                  15.47               559                 11.47   \n",
      "8                  18.65               696                 14.23   \n",
      "9                  20.16               832                 16.96   \n",
      "10                 21.64               972                 19.75   \n",
      "\n",
      "    Hydrogen Buses  Hydrogen Share (%)  Total Ecological Buses  \\\n",
      "0                0                0.00                     141   \n",
      "1                0                0.00                     391   \n",
      "2                0                0.00                     679   \n",
      "3                0                0.00                     988   \n",
      "4                0                0.00                    1417   \n",
      "5                0                0.00                    1800   \n",
      "6                1                0.02                    2117   \n",
      "7                1                0.02                    2427   \n",
      "8                1                0.02                    2737   \n",
      "9                1                0.02                    3049   \n",
      "10               1                0.02                    3364   \n",
      "\n",
      "    Ecological Share (%)  Non-Ecological Buses (diesel)  \\\n",
      "0                   2.96                           4621   \n",
      "1                   8.18                           4387   \n",
      "2                  14.17                           4114   \n",
      "3                  20.54                           3821   \n",
      "4                  29.37                           3408   \n",
      "5                  37.18                           3041   \n",
      "6                  43.58                           2741   \n",
      "7                  49.79                           2447   \n",
      "8                  55.97                           2153   \n",
      "9                  62.15                           1857   \n",
      "10                 68.35                           1558   \n",
      "\n",
      "    Non-Ecological Share (%)  \n",
      "0                      97.04  \n",
      "1                      91.82  \n",
      "2                      85.83  \n",
      "3                      79.46  \n",
      "4                      70.63  \n",
      "5                      62.82  \n",
      "6                      56.42  \n",
      "7                      50.21  \n",
      "8                      44.03  \n",
      "9                      37.85  \n",
      "10                     31.65  \n"
     ]
    }
   ],
   "source": [
    "\n",
    "data_2 = [\n",
    "    {\"Year\": 2014, \"Total Buses\": 4762, \"Hybrid Buses\": 141, \"Hybrid Share (%)\": 2.96, \"Biomethane Buses\": 0, \"Biomethane Share (%)\": 0, \"Electrical Buses\": 0, \"Electrical Share (%)\": 0, \"Hydrogen Buses\": 0, \"Hydrogen Share (%)\": 0, \"Total Ecological Buses\": 141, \"Ecological Share (%)\": 2.96, \"Non-Ecological Buses (diesel)\": 4621, \"Non-Ecological Share (%)\": 97.04},\n",
    "    {\"Year\": 2015, \"Total Buses\": 4778, \"Hybrid Buses\": 347, \"Hybrid Share (%)\": 7.26, \"Biomethane Buses\": 36, \"Biomethane Share (%)\": 0.75, \"Electrical Buses\": 8, \"Electrical Share (%)\": 0.17, \"Hydrogen Buses\": 0, \"Hydrogen Share (%)\": 0, \"Total Ecological Buses\": 391, \"Ecological Share (%)\": 8.18, \"Non-Ecological Buses (diesel)\": 4387, \"Non-Ecological Share (%)\": 91.82},\n",
    "    {\"Year\": 2016, \"Total Buses\": 4793, \"Hybrid Buses\": 552, \"Hybrid Share (%)\": 11.52, \"Biomethane Buses\": 72, \"Biomethane Share (%)\": 1.5, \"Electrical Buses\": 55, \"Electrical Share (%)\": 1.15, \"Hydrogen Buses\": 0, \"Hydrogen Share (%)\": 0, \"Total Ecological Buses\": 679, \"Ecological Share (%)\": 14.17, \"Non-Ecological Buses (diesel)\": 4114, \"Non-Ecological Share (%)\": 85.83},\n",
    "    {\"Year\": 2017, \"Total Buses\": 4809, \"Hybrid Buses\": 757, \"Hybrid Share (%)\": 15.74, \"Biomethane Buses\": 138, \"Biomethane Share (%)\": 2.87, \"Electrical Buses\": 93, \"Electrical Share (%)\": 1.93, \"Hydrogen Buses\": 0, \"Hydrogen Share (%)\": 0, \"Total Ecological Buses\": 988, \"Ecological Share (%)\": 20.54, \"Non-Ecological Buses (diesel)\": 3821, \"Non-Ecological Share (%)\": 79.46},\n",
    "    {\"Year\": 2018, \"Total Buses\": 4825, \"Hybrid Buses\": 933, \"Hybrid Share (%)\": 19.34, \"Biomethane Buses\": 281, \"Biomethane Share (%)\": 5.82, \"Electrical Buses\": 203, \"Electrical Share (%)\": 4.21, \"Hydrogen Buses\": 0, \"Hydrogen Share (%)\": 0, \"Total Ecological Buses\": 1417, \"Ecological Share (%)\": 29.37, \"Non-Ecological Buses (diesel)\": 3408, \"Non-Ecological Share (%)\": 70.63},\n",
    "    {\"Year\": 2019, \"Total Buses\": 4841, \"Hybrid Buses\": 1051, \"Hybrid Share (%)\": 21.71, \"Biomethane Buses\": 437, \"Biomethane Share (%)\": 9.03, \"Electrical Buses\": 312, \"Electrical Share (%)\": 6.44, \"Hydrogen Buses\": 0, \"Hydrogen Share (%)\": 0, \"Total Ecological Buses\": 1800, \"Ecological Share (%)\": 37.18, \"Non-Ecological Buses (diesel)\": 3041, \"Non-Ecological Share (%)\": 62.82},\n",
    "    {\"Year\": 2020, \"Total Buses\": 4858, \"Hybrid Buses\": 1103, \"Hybrid Share (%)\": 22.70, \"Biomethane Buses\": 593, \"Biomethane Share (%)\": 12.21, \"Electrical Buses\": 420, \"Electrical Share (%)\": 8.65, \"Hydrogen Buses\": 1, \"Hydrogen Share (%)\": 0.02, \"Total Ecological Buses\": 2117, \"Ecological Share (%)\": 43.58, \"Non-Ecological Buses (diesel)\": 2741, \"Non-Ecological Share (%)\": 56.42},\n",
    "    {\"Year\": 2021, \"Total Buses\": 4874, \"Hybrid Buses\": 1113, \"Hybrid Share (%)\": 22.83, \"Biomethane Buses\": 754, \"Biomethane Share (%)\": 15.47, \"Electrical Buses\": 559, \"Electrical Share (%)\": 11.47, \"Hydrogen Buses\": 1, \"Hydrogen Share (%)\": 0.02, \"Total Ecological Buses\": 2427, \"Ecological Share (%)\": 49.79, \"Non-Ecological Buses (diesel)\": 2447, \"Non-Ecological Share (%)\": 50.21},\n",
    "    {\"Year\": 2022, \"Total Buses\": 4890, \"Hybrid Buses\": 1128, \"Hybrid Share (%)\": 23.07, \"Biomethane Buses\": 912, \"Biomethane Share (%)\": 18.65, \"Electrical Buses\": 696, \"Electrical Share (%)\": 14.23, \"Hydrogen Buses\": 1, \"Hydrogen Share (%)\": 0.02, \"Total Ecological Buses\": 2737, \"Ecological Share (%)\": 55.97, \"Non-Ecological Buses (diesel)\": 2153, \"Non-Ecological Share (%)\": 44.03},\n",
    "    {\"Year\": 2023, \"Total Buses\": 4906, \"Hybrid Buses\": 1227, \"Hybrid Share (%)\": 25.01, \"Biomethane Buses\": 989, \"Biomethane Share (%)\": 20.16, \"Electrical Buses\": 832, \"Electrical Share (%)\": 16.96, \"Hydrogen Buses\": 1, \"Hydrogen Share (%)\": 0.02, \"Total Ecological Buses\": 3049, \"Ecological Share (%)\": 62.15, \"Non-Ecological Buses (diesel)\": 1857, \"Non-Ecological Share (%)\": 37.85},\n",
    "    {\"Year\": 2024, \"Total Buses\": 4922, \"Hybrid Buses\": 1326, \"Hybrid Share (%)\": 26.94, \"Biomethane Buses\": 1065, \"Biomethane Share (%)\": 21.64, \"Electrical Buses\": 972, \"Electrical Share (%)\": 19.75, \"Hydrogen Buses\": 1, \"Hydrogen Share (%)\": 0.02, \"Total Ecological Buses\": 3364, \"Ecological Share (%)\": 68.35, \"Non-Ecological Buses (diesel)\": 1558, \"Non-Ecological Share (%)\": 31.65},\n",
    "]\n",
    "\n",
    "df_idf = pd.DataFrame(data_2)\n",
    "print(df_idf)"
   ]
  },
  {
   "cell_type": "markdown",
   "metadata": {},
   "source": [
    "### Creation of the DataFrame based on RATP's active vehicles in Paris."
   ]
  },
  {
   "cell_type": "markdown",
   "metadata": {},
   "source": [
    "Data is a mix of observed data and interpolated data.<br>\n",
    "The created table with interpolated data (Google Sheet) can be accessed here (Paris tab) : https://docs.google.com/spreadsheets/d/1IwLV9PPNSNZnBoWbjC1sq3CvB4_2Q8l29XRxIQh0kKk/"
   ]
  },
  {
   "cell_type": "code",
   "execution_count": 4,
   "metadata": {},
   "outputs": [
    {
     "name": "stdout",
     "output_type": "stream",
     "text": [
      "    Year  Total Buses  Hybrid Buses  Hybrid Share (%)  Biomethane Buses  \\\n",
      "0   2014         1271            12              0.94                 0   \n",
      "1   2015         1288            14              1.09                20   \n",
      "2   2016         1304            44              3.37                22   \n",
      "3   2017         1321            57              4.31                22   \n",
      "4   2018         1337            90              6.73                22   \n",
      "5   2020         1354           102              7.53                22   \n",
      "6   2019         1371           173             12.62                22   \n",
      "7   2021         1388           228             16.43                22   \n",
      "8   2022         1405           271             19.29                22   \n",
      "9   2023         1421           392             27.59                59   \n",
      "10  2024         1438           476             33.10                71   \n",
      "\n",
      "    Biomethane Share (%)  Electrical Buses  Electrical Share (%)  \\\n",
      "0                   0.00                 0                  0.00   \n",
      "1                   1.55                 0                  0.00   \n",
      "2                   1.69                 6                  0.46   \n",
      "3                   1.67                 7                  0.53   \n",
      "4                   1.65                11                  0.82   \n",
      "5                   1.62                39                  2.88   \n",
      "6                   1.60                95                  6.93   \n",
      "7                   1.59               153                 11.02   \n",
      "8                   1.57               204                 14.52   \n",
      "9                   4.15               291                 20.48   \n",
      "10                  4.94               548                 38.11   \n",
      "\n",
      "    Hydrogen Buses  Hydrogen Share (%)  Total Ecological Buses  \\\n",
      "0                0                   0                      12   \n",
      "1                0                   0                      34   \n",
      "2                0                   0                      72   \n",
      "3                0                   0                      86   \n",
      "4                0                   0                     123   \n",
      "5                0                   0                     163   \n",
      "6                0                   0                     290   \n",
      "7                0                   0                     403   \n",
      "8                0                   0                     497   \n",
      "9                0                   0                     742   \n",
      "10               0                   0                    1095   \n",
      "\n",
      "    Ecological Share (%)  Non-Ecological Buses (diesel)  \\\n",
      "0                   0.94                           1259   \n",
      "1                   2.64                           1254   \n",
      "2                   5.52                           1232   \n",
      "3                   6.51                           1235   \n",
      "4                   9.20                           1214   \n",
      "5                  12.04                           1191   \n",
      "6                  21.15                           1081   \n",
      "7                  29.03                            985   \n",
      "8                  35.37                            908   \n",
      "9                  52.22                            679   \n",
      "10                 76.15                            343   \n",
      "\n",
      "    Non-Ecological Share (%)  \n",
      "0                      99.06  \n",
      "1                      97.36  \n",
      "2                      94.48  \n",
      "3                      93.49  \n",
      "4                      90.80  \n",
      "5                      87.96  \n",
      "6                      78.85  \n",
      "7                      70.97  \n",
      "8                      64.63  \n",
      "9                      47.78  \n",
      "10                     23.85  \n"
     ]
    }
   ],
   "source": [
    "data_3 = [\n",
    "    {\"Year\": 2014, \"Total Buses\": 1271, \"Hybrid Buses\": 12, \"Hybrid Share (%)\": 0.94, \"Biomethane Buses\": 0, \"Biomethane Share (%)\": 0, \"Electrical Buses\": 0, \"Electrical Share (%)\": 0, \"Hydrogen Buses\": 0, \"Hydrogen Share (%)\": 0, \"Total Ecological Buses\": 12, \"Ecological Share (%)\": 0.94, \"Non-Ecological Buses (diesel)\": 1259, \"Non-Ecological Share (%)\": 99.06},\n",
    "    {\"Year\": 2015, \"Total Buses\": 1288, \"Hybrid Buses\": 14, \"Hybrid Share (%)\": 1.09, \"Biomethane Buses\": 20, \"Biomethane Share (%)\": 1.55, \"Electrical Buses\": 0, \"Electrical Share (%)\": 0, \"Hydrogen Buses\": 0, \"Hydrogen Share (%)\": 0, \"Total Ecological Buses\": 34, \"Ecological Share (%)\": 2.64, \"Non-Ecological Buses (diesel)\": 1254, \"Non-Ecological Share (%)\": 97.36},\n",
    "    {\"Year\": 2016, \"Total Buses\": 1304, \"Hybrid Buses\": 44, \"Hybrid Share (%)\": 3.37, \"Biomethane Buses\": 22, \"Biomethane Share (%)\": 1.69, \"Electrical Buses\": 6, \"Electrical Share (%)\": 0.46, \"Hydrogen Buses\": 0, \"Hydrogen Share (%)\": 0, \"Total Ecological Buses\": 72, \"Ecological Share (%)\": 5.52, \"Non-Ecological Buses (diesel)\": 1232, \"Non-Ecological Share (%)\": 94.48},\n",
    "    {\"Year\": 2017, \"Total Buses\": 1321, \"Hybrid Buses\": 57, \"Hybrid Share (%)\": 4.31, \"Biomethane Buses\": 22, \"Biomethane Share (%)\": 1.67, \"Electrical Buses\": 7, \"Electrical Share (%)\": 0.53, \"Hydrogen Buses\": 0, \"Hydrogen Share (%)\": 0, \"Total Ecological Buses\": 86, \"Ecological Share (%)\": 6.51, \"Non-Ecological Buses (diesel)\": 1235, \"Non-Ecological Share (%)\": 93.49},\n",
    "    {\"Year\": 2018, \"Total Buses\": 1337, \"Hybrid Buses\": 90, \"Hybrid Share (%)\": 6.73, \"Biomethane Buses\": 22, \"Biomethane Share (%)\": 1.65, \"Electrical Buses\": 11, \"Electrical Share (%)\": 0.82, \"Hydrogen Buses\": 0, \"Hydrogen Share (%)\": 0, \"Total Ecological Buses\": 123, \"Ecological Share (%)\": 9.20, \"Non-Ecological Buses (diesel)\": 1214, \"Non-Ecological Share (%)\": 90.80},\n",
    "    {\"Year\": 2020, \"Total Buses\": 1354, \"Hybrid Buses\": 102, \"Hybrid Share (%)\": 7.53, \"Biomethane Buses\": 22, \"Biomethane Share (%)\": 1.62, \"Electrical Buses\": 39, \"Electrical Share (%)\": 2.88, \"Hydrogen Buses\": 0, \"Hydrogen Share (%)\": 0, \"Total Ecological Buses\": 163, \"Ecological Share (%)\": 12.04, \"Non-Ecological Buses (diesel)\": 1191, \"Non-Ecological Share (%)\": 87.96},\n",
    "    {\"Year\": 2019, \"Total Buses\": 1371, \"Hybrid Buses\": 173, \"Hybrid Share (%)\": 12.62, \"Biomethane Buses\": 22, \"Biomethane Share (%)\": 1.60, \"Electrical Buses\": 95, \"Electrical Share (%)\": 6.93, \"Hydrogen Buses\": 0, \"Hydrogen Share (%)\": 0, \"Total Ecological Buses\": 290, \"Ecological Share (%)\": 21.15, \"Non-Ecological Buses (diesel)\": 1081, \"Non-Ecological Share (%)\": 78.85},\n",
    "    {\"Year\": 2021, \"Total Buses\": 1388, \"Hybrid Buses\": 228, \"Hybrid Share (%)\": 16.43, \"Biomethane Buses\": 22, \"Biomethane Share (%)\": 1.59, \"Electrical Buses\": 153, \"Electrical Share (%)\": 11.02, \"Hydrogen Buses\": 0, \"Hydrogen Share (%)\": 0, \"Total Ecological Buses\": 403, \"Ecological Share (%)\": 29.03, \"Non-Ecological Buses (diesel)\": 985, \"Non-Ecological Share (%)\": 70.97},\n",
    "    {\"Year\": 2022, \"Total Buses\": 1405, \"Hybrid Buses\": 271, \"Hybrid Share (%)\": 19.29, \"Biomethane Buses\": 22, \"Biomethane Share (%)\": 1.57, \"Electrical Buses\": 204, \"Electrical Share (%)\": 14.52, \"Hydrogen Buses\": 0, \"Hydrogen Share (%)\": 0, \"Total Ecological Buses\": 497, \"Ecological Share (%)\": 35.37, \"Non-Ecological Buses (diesel)\": 908, \"Non-Ecological Share (%)\": 64.63},\n",
    "    {\"Year\": 2023, \"Total Buses\": 1421, \"Hybrid Buses\": 392, \"Hybrid Share (%)\": 27.59, \"Biomethane Buses\": 59, \"Biomethane Share (%)\": 4.15, \"Electrical Buses\": 291, \"Electrical Share (%)\": 20.48, \"Hydrogen Buses\": 0, \"Hydrogen Share (%)\": 0, \"Total Ecological Buses\": 742, \"Ecological Share (%)\": 52.22, \"Non-Ecological Buses (diesel)\": 679, \"Non-Ecological Share (%)\": 47.78},\n",
    "    {\"Year\": 2024, \"Total Buses\": 1438, \"Hybrid Buses\": 476, \"Hybrid Share (%)\": 33.10, \"Biomethane Buses\": 71, \"Biomethane Share (%)\": 4.94, \"Electrical Buses\": 548, \"Electrical Share (%)\": 38.11, \"Hydrogen Buses\": 0, \"Hydrogen Share (%)\": 0, \"Total Ecological Buses\": 1095, \"Ecological Share (%)\": 76.15, \"Non-Ecological Buses (diesel)\": 343, \"Non-Ecological Share (%)\": 23.85},\n",
    "]\n",
    "\n",
    "df_paris = pd.DataFrame(data_3)\n",
    "print(df_paris)"
   ]
  }
 ],
 "metadata": {
  "kernelspec": {
   "display_name": ".venv",
   "language": "python",
   "name": "python3"
  },
  "language_info": {
   "codemirror_mode": {
    "name": "ipython",
    "version": 3
   },
   "file_extension": ".py",
   "mimetype": "text/x-python",
   "name": "python",
   "nbconvert_exporter": "python",
   "pygments_lexer": "ipython3",
   "version": "3.13.1"
  }
 },
 "nbformat": 4,
 "nbformat_minor": 2
}
