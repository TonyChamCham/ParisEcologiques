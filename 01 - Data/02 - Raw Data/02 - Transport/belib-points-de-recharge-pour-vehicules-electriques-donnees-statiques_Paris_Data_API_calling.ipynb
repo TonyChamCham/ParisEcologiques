{
 "cells": [
  {
   "cell_type": "markdown",
   "metadata": {},
   "source": [
    "## Paris' electric vehicles charging spots."
   ]
  },
  {
   "cell_type": "markdown",
   "metadata": {},
   "source": [
    "### Importing libraries"
   ]
  },
  {
   "cell_type": "code",
   "execution_count": 32,
   "metadata": {},
   "outputs": [],
   "source": [
    "import pandas as pd\n",
    "import requests "
   ]
  },
  {
   "cell_type": "markdown",
   "metadata": {},
   "source": [
    "### Connecting to Paris Data's API (and testing the response's status code)"
   ]
  },
  {
   "cell_type": "code",
   "execution_count": 33,
   "metadata": {},
   "outputs": [
    {
     "data": {
      "text/plain": [
       "200"
      ]
     },
     "execution_count": 33,
     "metadata": {},
     "output_type": "execute_result"
    }
   ],
   "source": [
    "params = {\"select\":\"*\"}\n",
    "response = requests.get('https://opendata.paris.fr/api/explore/v2.1/catalog/datasets/belib-points-de-recharge-pour-vehicules-electriques-donnees-statiques/records?', params=params)\n",
    "response.status_code"
   ]
  },
  {
   "cell_type": "code",
   "execution_count": 35,
   "metadata": {},
   "outputs": [
    {
     "name": "stdout",
     "output_type": "stream",
     "text": [
      "<class 'pandas.core.frame.DataFrame'>\n",
      "RangeIndex: 10 entries, 0 to 9\n",
      "Data columns (total 41 columns):\n",
      " #   Column                 Non-Null Count  Dtype \n",
      "---  ------                 --------------  ----- \n",
      " 0   id_pdc_local           10 non-null     object\n",
      " 1   statut_pdc             10 non-null     object\n",
      " 2   arrondissement         10 non-null     object\n",
      " 3   id_station_local       10 non-null     object\n",
      " 4   id_station_itinerance  10 non-null     object\n",
      " 5   nom_station            10 non-null     object\n",
      " 6   implantation_station   0 non-null      object\n",
      " 7   nbre_pdc               10 non-null     object\n",
      " 8   date_maj               10 non-null     object\n",
      " 9   condition_acces        10 non-null     object\n",
      " 10  adresse_station        10 non-null     object\n",
      " 11  coordonneesxy          10 non-null     object\n",
      " 12  gratuit                10 non-null     object\n",
      " 13  paiement_acte          10 non-null     object\n",
      " 14  paiement_cb            10 non-null     object\n",
      " 15  paiement_autre         10 non-null     object\n",
      " 16  reservation            10 non-null     object\n",
      " 17  observations           10 non-null     object\n",
      " 18  num_pdl                10 non-null     object\n",
      " 19  siren_amenageur        10 non-null     object\n",
      " 20  contact_amenageur      10 non-null     object\n",
      " 21  nom_amenageur          10 non-null     object\n",
      " 22  nom_operateur          10 non-null     object\n",
      " 23  contact_operateur      10 non-null     object\n",
      " 24  telephone_operateur    10 non-null     object\n",
      " 25  nom_enseigne           10 non-null     object\n",
      " 26  tarification           10 non-null     object\n",
      " 27  id_pdc_itinerance      10 non-null     object\n",
      " 28  date_mise_en_service   10 non-null     object\n",
      " 29  accessibilite_pmr      10 non-null     object\n",
      " 30  restriction_gabarit    10 non-null     object\n",
      " 31  station_deux_roues     10 non-null     object\n",
      " 32  puissance_nominale     10 non-null     object\n",
      " 33  prise_type_ef          10 non-null     object\n",
      " 34  prise_type_2           10 non-null     object\n",
      " 35  prise_type_combo_ccs   10 non-null     object\n",
      " 36  prise_type_chademo     10 non-null     object\n",
      " 37  prise_type_autre       10 non-null     object\n",
      " 38  prise_type_3           10 non-null     object\n",
      " 39  horaires               10 non-null     object\n",
      " 40  raccordement           0 non-null      object\n",
      "dtypes: object(41)\n",
      "memory usage: 3.3+ KB\n"
     ]
    }
   ],
   "source": [
    "pd.DataFrame(response.json()[\"results\"]).info()"
   ]
  },
  {
   "cell_type": "markdown",
   "metadata": {},
   "source": [
    "### Retrieving the dataset as a .csv and converting it to a DataFrame"
   ]
  },
  {
   "cell_type": "code",
   "execution_count": 36,
   "metadata": {},
   "outputs": [],
   "source": [
    "dataset_id = 'belib-points-de-recharge-pour-vehicules-electriques-donnees-statiques'\n",
    "export_url = f'https://opendata.paris.fr/api/explore/v2.1/catalog/datasets/{dataset_id}/exports/csv'\n",
    "params = {\"select\": \"statut_pdc, arrondissement, nom_station, nbre_pdc, date_mise_en_service, coordonneesxy\"}\n",
    "\n",
    "# Downloading the csv of the full dataset\n",
    "response = requests.get(export_url, params=params)\n",
    "with open(f\"{dataset_id}_Paris_Data.csv\", \"wb\") as f:\n",
    "    f.write(response.content)\n",
    "\n",
    "# Converting the csv into a DataFrame\n",
    "df = pd.read_csv(f\"{dataset_id}_Paris_Data.csv\", sep=\";\")"
   ]
  },
  {
   "cell_type": "code",
   "execution_count": 37,
   "metadata": {},
   "outputs": [
    {
     "name": "stdout",
     "output_type": "stream",
     "text": [
      "<class 'pandas.core.frame.DataFrame'>\n",
      "RangeIndex: 1904 entries, 0 to 1903\n",
      "Data columns (total 6 columns):\n",
      " #   Column                Non-Null Count  Dtype \n",
      "---  ------                --------------  ----- \n",
      " 0   statut_pdc            1904 non-null   object\n",
      " 1   arrondissement        1904 non-null   object\n",
      " 2   nom_station           1904 non-null   object\n",
      " 3   nbre_pdc              1904 non-null   int64 \n",
      " 4   date_mise_en_service  1904 non-null   object\n",
      " 5   coordonneesxy         1904 non-null   object\n",
      "dtypes: int64(1), object(5)\n",
      "memory usage: 89.4+ KB\n"
     ]
    }
   ],
   "source": [
    "df.info()"
   ]
  },
  {
   "cell_type": "code",
   "execution_count": 38,
   "metadata": {},
   "outputs": [
    {
     "data": {
      "text/html": [
       "<div>\n",
       "<style scoped>\n",
       "    .dataframe tbody tr th:only-of-type {\n",
       "        vertical-align: middle;\n",
       "    }\n",
       "\n",
       "    .dataframe tbody tr th {\n",
       "        vertical-align: top;\n",
       "    }\n",
       "\n",
       "    .dataframe thead th {\n",
       "        text-align: right;\n",
       "    }\n",
       "</style>\n",
       "<table border=\"1\" class=\"dataframe\">\n",
       "  <thead>\n",
       "    <tr style=\"text-align: right;\">\n",
       "      <th></th>\n",
       "      <th>statut_pdc</th>\n",
       "      <th>arrondissement</th>\n",
       "      <th>nom_station</th>\n",
       "      <th>nbre_pdc</th>\n",
       "      <th>date_mise_en_service</th>\n",
       "      <th>coordonneesxy</th>\n",
       "    </tr>\n",
       "  </thead>\n",
       "  <tbody>\n",
       "    <tr>\n",
       "      <th>0</th>\n",
       "      <td>En service</td>\n",
       "      <td>Paris centre</td>\n",
       "      <td>Paris | SAGS Parking Lobau</td>\n",
       "      <td>21</td>\n",
       "      <td>2022-05-17T07:04:36+00:00</td>\n",
       "      <td>48.856796, 2.3538697</td>\n",
       "    </tr>\n",
       "    <tr>\n",
       "      <th>1</th>\n",
       "      <td>En service</td>\n",
       "      <td>Paris centre</td>\n",
       "      <td>Paris | SAGS Parking Lobau</td>\n",
       "      <td>21</td>\n",
       "      <td>2022-05-17T06:59:47+00:00</td>\n",
       "      <td>48.856796, 2.3538697</td>\n",
       "    </tr>\n",
       "    <tr>\n",
       "      <th>2</th>\n",
       "      <td>En service</td>\n",
       "      <td>16e Arrondissement</td>\n",
       "      <td>Paris | Avenue Marceau  59</td>\n",
       "      <td>5</td>\n",
       "      <td>2023-03-16T14:38:35+00:00</td>\n",
       "      <td>48.869892, 2.2976446</td>\n",
       "    </tr>\n",
       "    <tr>\n",
       "      <th>3</th>\n",
       "      <td>En service</td>\n",
       "      <td>20e Arrondissement</td>\n",
       "      <td>Paris | Rue Pelleport 86</td>\n",
       "      <td>4</td>\n",
       "      <td>2021-12-08T09:22:30+00:00</td>\n",
       "      <td>48.867603, 2.4021437</td>\n",
       "    </tr>\n",
       "    <tr>\n",
       "      <th>4</th>\n",
       "      <td>En service</td>\n",
       "      <td>10e Arrondissement</td>\n",
       "      <td>Paris | Rue du Faubourg Poissonnière 64</td>\n",
       "      <td>4</td>\n",
       "      <td>2021-11-23T16:20:25+00:00</td>\n",
       "      <td>48.87517, 2.348162</td>\n",
       "    </tr>\n",
       "  </tbody>\n",
       "</table>\n",
       "</div>"
      ],
      "text/plain": [
       "   statut_pdc      arrondissement                              nom_station  \\\n",
       "0  En service        Paris centre               Paris | SAGS Parking Lobau   \n",
       "1  En service        Paris centre               Paris | SAGS Parking Lobau   \n",
       "2  En service  16e Arrondissement               Paris | Avenue Marceau  59   \n",
       "3  En service  20e Arrondissement                 Paris | Rue Pelleport 86   \n",
       "4  En service  10e Arrondissement  Paris | Rue du Faubourg Poissonnière 64   \n",
       "\n",
       "   nbre_pdc       date_mise_en_service         coordonneesxy  \n",
       "0        21  2022-05-17T07:04:36+00:00  48.856796, 2.3538697  \n",
       "1        21  2022-05-17T06:59:47+00:00  48.856796, 2.3538697  \n",
       "2         5  2023-03-16T14:38:35+00:00  48.869892, 2.2976446  \n",
       "3         4  2021-12-08T09:22:30+00:00  48.867603, 2.4021437  \n",
       "4         4  2021-11-23T16:20:25+00:00    48.87517, 2.348162  "
      ]
     },
     "execution_count": 38,
     "metadata": {},
     "output_type": "execute_result"
    }
   ],
   "source": [
    "df.head()"
   ]
  }
 ],
 "metadata": {
  "kernelspec": {
   "display_name": ".venv",
   "language": "python",
   "name": "python3"
  },
  "language_info": {
   "codemirror_mode": {
    "name": "ipython",
    "version": 3
   },
   "file_extension": ".py",
   "mimetype": "text/x-python",
   "name": "python",
   "nbconvert_exporter": "python",
   "pygments_lexer": "ipython3",
   "version": "3.13.1"
  }
 },
 "nbformat": 4,
 "nbformat_minor": 2
}
