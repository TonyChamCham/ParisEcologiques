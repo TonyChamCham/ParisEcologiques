{
 "cells": [
  {
   "cell_type": "markdown",
   "metadata": {},
   "source": [
    "## Paris' cycles lanes cumulated length in km, from 2015 to 2024."
   ]
  },
  {
   "cell_type": "markdown",
   "metadata": {},
   "source": [
    "### Importing libraries"
   ]
  },
  {
   "cell_type": "code",
   "execution_count": 1,
   "metadata": {},
   "outputs": [],
   "source": [
    "import pandas as pd\n",
    "import requests "
   ]
  },
  {
   "cell_type": "markdown",
   "metadata": {},
   "source": [
    "### Connecting to Paris Data's API (and testing the response's status code)"
   ]
  },
  {
   "cell_type": "code",
   "execution_count": 2,
   "metadata": {},
   "outputs": [
    {
     "data": {
      "text/plain": [
       "200"
      ]
     },
     "execution_count": 2,
     "metadata": {},
     "output_type": "execute_result"
    }
   ],
   "source": [
    "params = {\"select\":\"*\"}\n",
    "response = requests.get('https://opendata.paris.fr/api/explore/v2.1/catalog/datasets/lineaire-cyclable-km/records?',params=params)\n",
    "response.status_code"
   ]
  },
  {
   "cell_type": "code",
   "execution_count": 3,
   "metadata": {},
   "outputs": [
    {
     "data": {
      "text/html": [
       "<div>\n",
       "<style scoped>\n",
       "    .dataframe tbody tr th:only-of-type {\n",
       "        vertical-align: middle;\n",
       "    }\n",
       "\n",
       "    .dataframe tbody tr th {\n",
       "        vertical-align: top;\n",
       "    }\n",
       "\n",
       "    .dataframe thead th {\n",
       "        text-align: right;\n",
       "    }\n",
       "</style>\n",
       "<table border=\"1\" class=\"dataframe\">\n",
       "  <thead>\n",
       "    <tr style=\"text-align: right;\">\n",
       "      <th></th>\n",
       "      <th>annee</th>\n",
       "      <th>longueur</th>\n",
       "      <th>mois</th>\n",
       "      <th>year</th>\n",
       "      <th>date</th>\n",
       "    </tr>\n",
       "  </thead>\n",
       "  <tbody>\n",
       "    <tr>\n",
       "      <th>0</th>\n",
       "      <td>2023</td>\n",
       "      <td>1441</td>\n",
       "      <td>janvier</td>\n",
       "      <td>2023</td>\n",
       "      <td>janvier 2023</td>\n",
       "    </tr>\n",
       "    <tr>\n",
       "      <th>1</th>\n",
       "      <td>2021</td>\n",
       "      <td>1360</td>\n",
       "      <td>janvier</td>\n",
       "      <td>2021</td>\n",
       "      <td>janvier 2021</td>\n",
       "    </tr>\n",
       "    <tr>\n",
       "      <th>2</th>\n",
       "      <td>2024</td>\n",
       "      <td>1487</td>\n",
       "      <td>janvier</td>\n",
       "      <td>2024</td>\n",
       "      <td>janvier 2024</td>\n",
       "    </tr>\n",
       "    <tr>\n",
       "      <th>3</th>\n",
       "      <td>2018</td>\n",
       "      <td>1059</td>\n",
       "      <td>janvier</td>\n",
       "      <td>2018</td>\n",
       "      <td>janvier 2018</td>\n",
       "    </tr>\n",
       "    <tr>\n",
       "      <th>4</th>\n",
       "      <td>2020</td>\n",
       "      <td>1240</td>\n",
       "      <td>janvier</td>\n",
       "      <td>2020</td>\n",
       "      <td>janvier 2020</td>\n",
       "    </tr>\n",
       "    <tr>\n",
       "      <th>5</th>\n",
       "      <td>2019</td>\n",
       "      <td>1134</td>\n",
       "      <td>janvier</td>\n",
       "      <td>2019</td>\n",
       "      <td>janvier 2019</td>\n",
       "    </tr>\n",
       "    <tr>\n",
       "      <th>6</th>\n",
       "      <td>2016</td>\n",
       "      <td>962</td>\n",
       "      <td>janvier</td>\n",
       "      <td>2016</td>\n",
       "      <td>janvier 2016</td>\n",
       "    </tr>\n",
       "    <tr>\n",
       "      <th>7</th>\n",
       "      <td>2025</td>\n",
       "      <td>1565</td>\n",
       "      <td>janvier</td>\n",
       "      <td>2025</td>\n",
       "      <td>janvier 2025</td>\n",
       "    </tr>\n",
       "    <tr>\n",
       "      <th>8</th>\n",
       "      <td>2015</td>\n",
       "      <td>935</td>\n",
       "      <td>janvier</td>\n",
       "      <td>2015</td>\n",
       "      <td>janvier 2015</td>\n",
       "    </tr>\n",
       "    <tr>\n",
       "      <th>9</th>\n",
       "      <td>2022</td>\n",
       "      <td>1402</td>\n",
       "      <td>janvier</td>\n",
       "      <td>2022</td>\n",
       "      <td>janvier 2022</td>\n",
       "    </tr>\n",
       "  </tbody>\n",
       "</table>\n",
       "</div>"
      ],
      "text/plain": [
       "  annee  longueur     mois  year          date\n",
       "0  2023      1441  janvier  2023  janvier 2023\n",
       "1  2021      1360  janvier  2021  janvier 2021\n",
       "2  2024      1487  janvier  2024  janvier 2024\n",
       "3  2018      1059  janvier  2018  janvier 2018\n",
       "4  2020      1240  janvier  2020  janvier 2020\n",
       "5  2019      1134  janvier  2019  janvier 2019\n",
       "6  2016       962  janvier  2016  janvier 2016\n",
       "7  2025      1565  janvier  2025  janvier 2025\n",
       "8  2015       935  janvier  2015  janvier 2015\n",
       "9  2022      1402  janvier  2022  janvier 2022"
      ]
     },
     "execution_count": 3,
     "metadata": {},
     "output_type": "execute_result"
    }
   ],
   "source": [
    "pd.DataFrame(response.json()[\"results\"])"
   ]
  },
  {
   "cell_type": "markdown",
   "metadata": {},
   "source": [
    "### Retrieving the dataset as a .csv and converting it to a DataFrame"
   ]
  },
  {
   "cell_type": "code",
   "execution_count": 4,
   "metadata": {},
   "outputs": [],
   "source": [
    "dataset_id = 'lineaire-cyclable-km'\n",
    "export_url = f'https://opendata.paris.fr/api/explore/v2.1/catalog/datasets/{dataset_id}/exports/csv'\n",
    "params = {\"select\": \"annee, longueur\"}\n",
    "\n",
    "# Downloading the csv of the full dataset and saving it locally\n",
    "response = requests.get(export_url, params=params)\n",
    "with open(f\"{dataset_id}_Paris_Data.csv\", \"wb\") as f:\n",
    "    f.write(response.content)\n",
    "\n",
    "# Converting the csv into a DataFrame with relevant columns\n",
    "df = pd.read_csv(f\"{dataset_id}_Paris_Data.csv\", sep=\";\")\n"
   ]
  },
  {
   "cell_type": "code",
   "execution_count": 5,
   "metadata": {},
   "outputs": [
    {
     "name": "stdout",
     "output_type": "stream",
     "text": [
      "<class 'pandas.core.frame.DataFrame'>\n",
      "RangeIndex: 11 entries, 0 to 10\n",
      "Data columns (total 2 columns):\n",
      " #   Column    Non-Null Count  Dtype\n",
      "---  ------    --------------  -----\n",
      " 0   annee     11 non-null     int64\n",
      " 1   longueur  11 non-null     int64\n",
      "dtypes: int64(2)\n",
      "memory usage: 308.0 bytes\n"
     ]
    }
   ],
   "source": [
    "df.info()"
   ]
  },
  {
   "cell_type": "code",
   "execution_count": 6,
   "metadata": {},
   "outputs": [
    {
     "data": {
      "text/html": [
       "<div>\n",
       "<style scoped>\n",
       "    .dataframe tbody tr th:only-of-type {\n",
       "        vertical-align: middle;\n",
       "    }\n",
       "\n",
       "    .dataframe tbody tr th {\n",
       "        vertical-align: top;\n",
       "    }\n",
       "\n",
       "    .dataframe thead th {\n",
       "        text-align: right;\n",
       "    }\n",
       "</style>\n",
       "<table border=\"1\" class=\"dataframe\">\n",
       "  <thead>\n",
       "    <tr style=\"text-align: right;\">\n",
       "      <th></th>\n",
       "      <th>annee</th>\n",
       "      <th>longueur</th>\n",
       "    </tr>\n",
       "  </thead>\n",
       "  <tbody>\n",
       "    <tr>\n",
       "      <th>0</th>\n",
       "      <td>2023</td>\n",
       "      <td>1441</td>\n",
       "    </tr>\n",
       "    <tr>\n",
       "      <th>1</th>\n",
       "      <td>2022</td>\n",
       "      <td>1402</td>\n",
       "    </tr>\n",
       "    <tr>\n",
       "      <th>2</th>\n",
       "      <td>2018</td>\n",
       "      <td>1059</td>\n",
       "    </tr>\n",
       "    <tr>\n",
       "      <th>3</th>\n",
       "      <td>2019</td>\n",
       "      <td>1134</td>\n",
       "    </tr>\n",
       "    <tr>\n",
       "      <th>4</th>\n",
       "      <td>2017</td>\n",
       "      <td>1000</td>\n",
       "    </tr>\n",
       "  </tbody>\n",
       "</table>\n",
       "</div>"
      ],
      "text/plain": [
       "   annee  longueur\n",
       "0   2023      1441\n",
       "1   2022      1402\n",
       "2   2018      1059\n",
       "3   2019      1134\n",
       "4   2017      1000"
      ]
     },
     "execution_count": 6,
     "metadata": {},
     "output_type": "execute_result"
    }
   ],
   "source": [
    "df.head()"
   ]
  }
 ],
 "metadata": {
  "kernelspec": {
   "display_name": ".venv",
   "language": "python",
   "name": "python3"
  },
  "language_info": {
   "codemirror_mode": {
    "name": "ipython",
    "version": 3
   },
   "file_extension": ".py",
   "mimetype": "text/x-python",
   "name": "python",
   "nbconvert_exporter": "python",
   "pygments_lexer": "ipython3",
   "version": "3.13.1"
  }
 },
 "nbformat": 4,
 "nbformat_minor": 2
}
