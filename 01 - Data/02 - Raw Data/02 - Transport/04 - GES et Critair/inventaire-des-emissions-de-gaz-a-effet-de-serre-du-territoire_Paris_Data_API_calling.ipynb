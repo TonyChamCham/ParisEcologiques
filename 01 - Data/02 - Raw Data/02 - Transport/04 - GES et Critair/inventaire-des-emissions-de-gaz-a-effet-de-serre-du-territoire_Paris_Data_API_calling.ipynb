{
 "cells": [
  {
   "cell_type": "markdown",
   "metadata": {},
   "source": [
    "## Inventory of greenhouse gas emissions of the Parisian territory (2014 and from 2018 to 2022)."
   ]
  },
  {
   "cell_type": "markdown",
   "metadata": {},
   "source": [
    "### Importing libraries"
   ]
  },
  {
   "cell_type": "code",
   "execution_count": 1,
   "metadata": {},
   "outputs": [],
   "source": [
    "import pandas as pd\n",
    "import requests "
   ]
  },
  {
   "cell_type": "markdown",
   "metadata": {},
   "source": [
    "### Connecting to Paris Data's API (and testing the response's status code)"
   ]
  },
  {
   "cell_type": "code",
   "execution_count": 2,
   "metadata": {},
   "outputs": [
    {
     "data": {
      "text/plain": [
       "200"
      ]
     },
     "execution_count": 2,
     "metadata": {},
     "output_type": "execute_result"
    }
   ],
   "source": [
    "params = {\"select\":\"*\"}\n",
    "response = requests.get('https://opendata.paris.fr/api/explore/v2.1/catalog/datasets/inventaire-des-emissions-de-gaz-a-effet-de-serre-du-territoire/records?', params=params)\n",
    "response.status_code"
   ]
  },
  {
   "cell_type": "code",
   "execution_count": 3,
   "metadata": {},
   "outputs": [
    {
     "name": "stdout",
     "output_type": "stream",
     "text": [
      "<class 'pandas.core.frame.DataFrame'>\n",
      "RangeIndex: 7 entries, 0 to 6\n",
      "Data columns (total 18 columns):\n",
      " #   Column                                        Non-Null Count  Dtype  \n",
      "---  ------                                        --------------  -----  \n",
      " 0   annee                                         7 non-null      object \n",
      " 1   ges_grd_secteurs_total                        7 non-null      float64\n",
      " 2   ges_grd_secteurs_energie                      7 non-null      float64\n",
      " 3   ges_grd_secteurs_transport                    7 non-null      float64\n",
      " 4   ges_grd_secteurs_consommation                 7 non-null      float64\n",
      " 5   ges_detail_locales_total                      7 non-null      float64\n",
      " 6   ges_detail_locales_residentiel                7 non-null      float64\n",
      " 7   ges_detail_locales_tertiaire                  7 non-null      float64\n",
      " 8   ges_detail_locales_industrie                  7 non-null      float64\n",
      " 9   ges_detail_locales_transport                  7 non-null      float64\n",
      " 10  ges_detail_locales_dechets                    7 non-null      float64\n",
      " 11  ges_detail_hors_paris_total                   7 non-null      float64\n",
      " 12  ges_detail_hors_paris_construction_materiaux  7 non-null      float64\n",
      " 13  ges_detail_hors_paris_transport               7 non-null      float64\n",
      " 14  ges_detail_hors_paris_transport_aerien        7 non-null      float64\n",
      " 15  ges_detail_hors_paris_alimentation            7 non-null      float64\n",
      " 16  ges_detail_hors_paris_amont_energie           7 non-null      float64\n",
      " 17  evolution                                     6 non-null      float64\n",
      "dtypes: float64(17), object(1)\n",
      "memory usage: 1.1+ KB\n"
     ]
    }
   ],
   "source": [
    "pd.DataFrame(response.json()[\"results\"]).info()"
   ]
  },
  {
   "cell_type": "markdown",
   "metadata": {},
   "source": [
    "### Retrieving the dataset as a .csv and converting it to a DataFrame"
   ]
  },
  {
   "cell_type": "code",
   "execution_count": 4,
   "metadata": {},
   "outputs": [],
   "source": [
    "dataset_id = 'inventaire-des-emissions-de-gaz-a-effet-de-serre-du-territoire'\n",
    "export_url = f'https://opendata.paris.fr/api/explore/v2.1/catalog/datasets/{dataset_id}/exports/csv'\n",
    "params = {\"select\": \"annee, ges_grd_secteurs_transport, ges_detail_locales_transport, ges_detail_hors_paris_transport, ges_detail_hors_paris_transport_aerien\"}\n",
    "\n",
    "# Downloading the csv of the full dataset\n",
    "response = requests.get(export_url, params=params)\n",
    "with open(f\"{dataset_id}_Paris_Data.csv\", \"wb\") as f:\n",
    "    f.write(response.content)\n",
    "\n",
    "# Converting the csv into a DataFrame\n",
    "df = pd.read_csv(f\"{dataset_id}_Paris_Data.csv\", sep=\";\")"
   ]
  },
  {
   "cell_type": "code",
   "execution_count": 5,
   "metadata": {},
   "outputs": [
    {
     "name": "stdout",
     "output_type": "stream",
     "text": [
      "<class 'pandas.core.frame.DataFrame'>\n",
      "RangeIndex: 7 entries, 0 to 6\n",
      "Data columns (total 5 columns):\n",
      " #   Column                                  Non-Null Count  Dtype  \n",
      "---  ------                                  --------------  -----  \n",
      " 0   annee                                   7 non-null      int64  \n",
      " 1   ges_grd_secteurs_transport              7 non-null      float64\n",
      " 2   ges_detail_locales_transport            7 non-null      float64\n",
      " 3   ges_detail_hors_paris_transport         7 non-null      float64\n",
      " 4   ges_detail_hors_paris_transport_aerien  7 non-null      float64\n",
      "dtypes: float64(4), int64(1)\n",
      "memory usage: 412.0 bytes\n"
     ]
    }
   ],
   "source": [
    "df.info()"
   ]
  },
  {
   "cell_type": "code",
   "execution_count": 6,
   "metadata": {},
   "outputs": [
    {
     "data": {
      "text/html": [
       "<div>\n",
       "<style scoped>\n",
       "    .dataframe tbody tr th:only-of-type {\n",
       "        vertical-align: middle;\n",
       "    }\n",
       "\n",
       "    .dataframe tbody tr th {\n",
       "        vertical-align: top;\n",
       "    }\n",
       "\n",
       "    .dataframe thead th {\n",
       "        text-align: right;\n",
       "    }\n",
       "</style>\n",
       "<table border=\"1\" class=\"dataframe\">\n",
       "  <thead>\n",
       "    <tr style=\"text-align: right;\">\n",
       "      <th></th>\n",
       "      <th>annee</th>\n",
       "      <th>ges_grd_secteurs_transport</th>\n",
       "      <th>ges_detail_locales_transport</th>\n",
       "      <th>ges_detail_hors_paris_transport</th>\n",
       "      <th>ges_detail_hors_paris_transport_aerien</th>\n",
       "    </tr>\n",
       "  </thead>\n",
       "  <tbody>\n",
       "    <tr>\n",
       "      <th>0</th>\n",
       "      <td>2020</td>\n",
       "      <td>7.20</td>\n",
       "      <td>0.70</td>\n",
       "      <td>2.80</td>\n",
       "      <td>3.50</td>\n",
       "    </tr>\n",
       "    <tr>\n",
       "      <th>1</th>\n",
       "      <td>2004</td>\n",
       "      <td>15.50</td>\n",
       "      <td>1.80</td>\n",
       "      <td>3.90</td>\n",
       "      <td>9.30</td>\n",
       "    </tr>\n",
       "    <tr>\n",
       "      <th>2</th>\n",
       "      <td>2018</td>\n",
       "      <td>12.00</td>\n",
       "      <td>0.90</td>\n",
       "      <td>3.20</td>\n",
       "      <td>7.60</td>\n",
       "    </tr>\n",
       "    <tr>\n",
       "      <th>3</th>\n",
       "      <td>2021</td>\n",
       "      <td>8.54</td>\n",
       "      <td>0.70</td>\n",
       "      <td>3.32</td>\n",
       "      <td>4.18</td>\n",
       "    </tr>\n",
       "    <tr>\n",
       "      <th>4</th>\n",
       "      <td>2014</td>\n",
       "      <td>12.60</td>\n",
       "      <td>1.30</td>\n",
       "      <td>3.40</td>\n",
       "      <td>7.50</td>\n",
       "    </tr>\n",
       "    <tr>\n",
       "      <th>5</th>\n",
       "      <td>2019</td>\n",
       "      <td>11.60</td>\n",
       "      <td>1.00</td>\n",
       "      <td>3.60</td>\n",
       "      <td>7.00</td>\n",
       "    </tr>\n",
       "    <tr>\n",
       "      <th>6</th>\n",
       "      <td>2022</td>\n",
       "      <td>9.46</td>\n",
       "      <td>0.74</td>\n",
       "      <td>3.40</td>\n",
       "      <td>4.98</td>\n",
       "    </tr>\n",
       "  </tbody>\n",
       "</table>\n",
       "</div>"
      ],
      "text/plain": [
       "   annee  ges_grd_secteurs_transport  ges_detail_locales_transport  \\\n",
       "0   2020                        7.20                          0.70   \n",
       "1   2004                       15.50                          1.80   \n",
       "2   2018                       12.00                          0.90   \n",
       "3   2021                        8.54                          0.70   \n",
       "4   2014                       12.60                          1.30   \n",
       "5   2019                       11.60                          1.00   \n",
       "6   2022                        9.46                          0.74   \n",
       "\n",
       "   ges_detail_hors_paris_transport  ges_detail_hors_paris_transport_aerien  \n",
       "0                             2.80                                    3.50  \n",
       "1                             3.90                                    9.30  \n",
       "2                             3.20                                    7.60  \n",
       "3                             3.32                                    4.18  \n",
       "4                             3.40                                    7.50  \n",
       "5                             3.60                                    7.00  \n",
       "6                             3.40                                    4.98  "
      ]
     },
     "execution_count": 6,
     "metadata": {},
     "output_type": "execute_result"
    }
   ],
   "source": [
    "df.head(10)"
   ]
  },
  {
   "cell_type": "markdown",
   "metadata": {},
   "source": [
    "### Getting rid of years prior 2014"
   ]
  },
  {
   "cell_type": "code",
   "execution_count": 7,
   "metadata": {},
   "outputs": [
    {
     "data": {
      "text/html": [
       "<div>\n",
       "<style scoped>\n",
       "    .dataframe tbody tr th:only-of-type {\n",
       "        vertical-align: middle;\n",
       "    }\n",
       "\n",
       "    .dataframe tbody tr th {\n",
       "        vertical-align: top;\n",
       "    }\n",
       "\n",
       "    .dataframe thead th {\n",
       "        text-align: right;\n",
       "    }\n",
       "</style>\n",
       "<table border=\"1\" class=\"dataframe\">\n",
       "  <thead>\n",
       "    <tr style=\"text-align: right;\">\n",
       "      <th></th>\n",
       "      <th>annee</th>\n",
       "      <th>ges_grd_secteurs_transport</th>\n",
       "      <th>ges_detail_locales_transport</th>\n",
       "      <th>ges_detail_hors_paris_transport</th>\n",
       "      <th>ges_detail_hors_paris_transport_aerien</th>\n",
       "    </tr>\n",
       "  </thead>\n",
       "  <tbody>\n",
       "    <tr>\n",
       "      <th>0</th>\n",
       "      <td>2020</td>\n",
       "      <td>7.20</td>\n",
       "      <td>0.70</td>\n",
       "      <td>2.80</td>\n",
       "      <td>3.50</td>\n",
       "    </tr>\n",
       "    <tr>\n",
       "      <th>2</th>\n",
       "      <td>2018</td>\n",
       "      <td>12.00</td>\n",
       "      <td>0.90</td>\n",
       "      <td>3.20</td>\n",
       "      <td>7.60</td>\n",
       "    </tr>\n",
       "    <tr>\n",
       "      <th>3</th>\n",
       "      <td>2021</td>\n",
       "      <td>8.54</td>\n",
       "      <td>0.70</td>\n",
       "      <td>3.32</td>\n",
       "      <td>4.18</td>\n",
       "    </tr>\n",
       "    <tr>\n",
       "      <th>4</th>\n",
       "      <td>2014</td>\n",
       "      <td>12.60</td>\n",
       "      <td>1.30</td>\n",
       "      <td>3.40</td>\n",
       "      <td>7.50</td>\n",
       "    </tr>\n",
       "    <tr>\n",
       "      <th>5</th>\n",
       "      <td>2019</td>\n",
       "      <td>11.60</td>\n",
       "      <td>1.00</td>\n",
       "      <td>3.60</td>\n",
       "      <td>7.00</td>\n",
       "    </tr>\n",
       "    <tr>\n",
       "      <th>6</th>\n",
       "      <td>2022</td>\n",
       "      <td>9.46</td>\n",
       "      <td>0.74</td>\n",
       "      <td>3.40</td>\n",
       "      <td>4.98</td>\n",
       "    </tr>\n",
       "  </tbody>\n",
       "</table>\n",
       "</div>"
      ],
      "text/plain": [
       "   annee  ges_grd_secteurs_transport  ges_detail_locales_transport  \\\n",
       "0   2020                        7.20                          0.70   \n",
       "2   2018                       12.00                          0.90   \n",
       "3   2021                        8.54                          0.70   \n",
       "4   2014                       12.60                          1.30   \n",
       "5   2019                       11.60                          1.00   \n",
       "6   2022                        9.46                          0.74   \n",
       "\n",
       "   ges_detail_hors_paris_transport  ges_detail_hors_paris_transport_aerien  \n",
       "0                             2.80                                    3.50  \n",
       "2                             3.20                                    7.60  \n",
       "3                             3.32                                    4.18  \n",
       "4                             3.40                                    7.50  \n",
       "5                             3.60                                    7.00  \n",
       "6                             3.40                                    4.98  "
      ]
     },
     "execution_count": 7,
     "metadata": {},
     "output_type": "execute_result"
    }
   ],
   "source": [
    "df = df[df[\"annee\"] >= 2014]\n",
    "df.head(10)"
   ]
  },
  {
   "cell_type": "code",
   "execution_count": null,
   "metadata": {},
   "outputs": [],
   "source": [
    "df.to_csv(f\"{dataset_id}_Paris_Data.csv\", sep=\";\", index=False)"
   ]
  }
 ],
 "metadata": {
  "kernelspec": {
   "display_name": ".venv",
   "language": "python",
   "name": "python3"
  },
  "language_info": {
   "codemirror_mode": {
    "name": "ipython",
    "version": 3
   },
   "file_extension": ".py",
   "mimetype": "text/x-python",
   "name": "python",
   "nbconvert_exporter": "python",
   "pygments_lexer": "ipython3",
   "version": "3.13.1"
  }
 },
 "nbformat": 4,
 "nbformat_minor": 2
}
