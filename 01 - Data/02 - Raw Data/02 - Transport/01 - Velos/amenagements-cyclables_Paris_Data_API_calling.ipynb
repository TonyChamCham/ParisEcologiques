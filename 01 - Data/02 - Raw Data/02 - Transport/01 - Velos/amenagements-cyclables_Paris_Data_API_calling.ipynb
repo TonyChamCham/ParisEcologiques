{
 "cells": [
  {
   "cell_type": "markdown",
   "metadata": {},
   "source": [
    "## Listing of Paris' cycles lanes, with location, length and export date."
   ]
  },
  {
   "cell_type": "markdown",
   "metadata": {},
   "source": [
    "### Importing libraries"
   ]
  },
  {
   "cell_type": "code",
   "execution_count": 2,
   "metadata": {},
   "outputs": [],
   "source": [
    "import pandas as pd\n",
    "import requests "
   ]
  },
  {
   "cell_type": "markdown",
   "metadata": {},
   "source": [
    "### Connecting to Paris Data's API (and testing the response's status code)"
   ]
  },
  {
   "cell_type": "code",
   "execution_count": 3,
   "metadata": {},
   "outputs": [
    {
     "data": {
      "text/plain": [
       "200"
      ]
     },
     "execution_count": 3,
     "metadata": {},
     "output_type": "execute_result"
    }
   ],
   "source": [
    "params = {\"select\":\"*\"}\n",
    "response = requests.get('https://opendata.paris.fr/api/explore/v2.1/catalog/datasets/amenagements-cyclables/records?',params=params)\n",
    "response.status_code"
   ]
  },
  {
   "cell_type": "code",
   "execution_count": 5,
   "metadata": {},
   "outputs": [
    {
     "ename": "ValueError",
     "evalue": "DataFrame constructor not properly called!",
     "output_type": "error",
     "traceback": [
      "\u001b[31m---------------------------------------------------------------------------\u001b[39m",
      "\u001b[31mValueError\u001b[39m                                Traceback (most recent call last)",
      "\u001b[32m~\\AppData\\Local\\Temp\\ipykernel_16052\\110768302.py\u001b[39m in \u001b[36m?\u001b[39m\u001b[34m()\u001b[39m\n\u001b[32m----> \u001b[39m\u001b[32m1\u001b[39m pd.DataFrame(response.content)\n",
      "\u001b[32me:\\GitHub\\ParisEcologiques\\.venv\\Lib\\site-packages\\pandas\\core\\frame.py\u001b[39m in \u001b[36m?\u001b[39m\u001b[34m(self, data, index, columns, dtype, copy)\u001b[39m\n\u001b[32m    882\u001b[39m                 )\n\u001b[32m    883\u001b[39m         \u001b[38;5;66;03m# For data is scalar\u001b[39;00m\n\u001b[32m    884\u001b[39m         \u001b[38;5;28;01melse\u001b[39;00m:\n\u001b[32m    885\u001b[39m             \u001b[38;5;28;01mif\u001b[39;00m index \u001b[38;5;28;01mis\u001b[39;00m \u001b[38;5;28;01mNone\u001b[39;00m \u001b[38;5;28;01mor\u001b[39;00m columns \u001b[38;5;28;01mis\u001b[39;00m \u001b[38;5;28;01mNone\u001b[39;00m:\n\u001b[32m--> \u001b[39m\u001b[32m886\u001b[39m                 \u001b[38;5;28;01mraise\u001b[39;00m ValueError(\u001b[33m\"DataFrame constructor not properly called!\"\u001b[39m)\n\u001b[32m    887\u001b[39m \n\u001b[32m    888\u001b[39m             index = ensure_index(index)\n\u001b[32m    889\u001b[39m             columns = ensure_index(columns)\n",
      "\u001b[31mValueError\u001b[39m: DataFrame constructor not properly called!"
     ]
    }
   ],
   "source": [
    "pd.DataFrame(response.content)"
   ]
  },
  {
   "cell_type": "markdown",
   "metadata": {},
   "source": [
    "### Retrieving the dataset as a .csv and converting it to a DataFrame"
   ]
  },
  {
   "cell_type": "code",
   "execution_count": 24,
   "metadata": {},
   "outputs": [],
   "source": [
    "dataset_id = 'amenagements-cyclables'\n",
    "export_url = f'https://opendata.paris.fr/api/explore/v2.1/catalog/datasets/{dataset_id}/exports/csv'\n",
    "params = {\"select\": \"nom, amenagement, arrondissement, date_export, st_length_shape, geo_shape, geo_point_2d\"}\n",
    "\n",
    "# Downloading the csv of the full dataset and saving it locally\n",
    "response = requests.get(export_url, params=params)\n",
    "with open(f\"{dataset_id}_Paris_Data.csv\", \"wb\") as f:\n",
    "    f.write(response.content)\n",
    "\n",
    "# Converting the csv into a DataFrame with relevant columns\n",
    "df = pd.read_csv(f\"{dataset_id}_Paris_Data.csv\", sep=\";\")\n"
   ]
  },
  {
   "cell_type": "code",
   "execution_count": 25,
   "metadata": {},
   "outputs": [
    {
     "name": "stdout",
     "output_type": "stream",
     "text": [
      "<class 'pandas.core.frame.DataFrame'>\n",
      "RangeIndex: 136926 entries, 0 to 136925\n",
      "Data columns (total 7 columns):\n",
      " #   Column           Non-Null Count   Dtype  \n",
      "---  ------           --------------   -----  \n",
      " 0   nom              123212 non-null  object \n",
      " 1   amenagement      136926 non-null  object \n",
      " 2   arrondissement   136926 non-null  int64  \n",
      " 3   date_export      136926 non-null  object \n",
      " 4   st_length_shape  136926 non-null  float64\n",
      " 5   geo_shape        136926 non-null  object \n",
      " 6   geo_point_2d     136926 non-null  object \n",
      "dtypes: float64(1), int64(1), object(5)\n",
      "memory usage: 7.3+ MB\n"
     ]
    }
   ],
   "source": [
    "df.info()"
   ]
  },
  {
   "cell_type": "code",
   "execution_count": 27,
   "metadata": {},
   "outputs": [
    {
     "data": {
      "text/html": [
       "<div>\n",
       "<style scoped>\n",
       "    .dataframe tbody tr th:only-of-type {\n",
       "        vertical-align: middle;\n",
       "    }\n",
       "\n",
       "    .dataframe tbody tr th {\n",
       "        vertical-align: top;\n",
       "    }\n",
       "\n",
       "    .dataframe thead th {\n",
       "        text-align: right;\n",
       "    }\n",
       "</style>\n",
       "<table border=\"1\" class=\"dataframe\">\n",
       "  <thead>\n",
       "    <tr style=\"text-align: right;\">\n",
       "      <th></th>\n",
       "      <th>nom</th>\n",
       "      <th>amenagement</th>\n",
       "      <th>arrondissement</th>\n",
       "      <th>date_export</th>\n",
       "      <th>st_length_shape</th>\n",
       "      <th>geo_shape</th>\n",
       "      <th>geo_point_2d</th>\n",
       "    </tr>\n",
       "  </thead>\n",
       "  <tbody>\n",
       "    <tr>\n",
       "      <th>0</th>\n",
       "      <td>Square du Rhône</td>\n",
       "      <td>voie piétonne</td>\n",
       "      <td>17</td>\n",
       "      <td>2021-01-01T01:00:00+00:00</td>\n",
       "      <td>59.578972</td>\n",
       "      <td>{\"coordinates\": [[2.3008191005798406, 48.88862...</td>\n",
       "      <td>48.88884600558725, 2.3005780283356656</td>\n",
       "    </tr>\n",
       "    <tr>\n",
       "      <th>1</th>\n",
       "      <td>Rue Jacquemont</td>\n",
       "      <td>double-sens cyclable simple</td>\n",
       "      <td>17</td>\n",
       "      <td>2021-01-01T01:00:00+00:00</td>\n",
       "      <td>167.174771</td>\n",
       "      <td>{\"coordinates\": [[2.3236381004424285, 48.88862...</td>\n",
       "      <td>48.88806434279106, 2.3228773233498208</td>\n",
       "    </tr>\n",
       "    <tr>\n",
       "      <th>2</th>\n",
       "      <td>Rue Marguerite de Rochechouart</td>\n",
       "      <td>bande cyclable</td>\n",
       "      <td>9</td>\n",
       "      <td>2021-01-01T01:00:00+00:00</td>\n",
       "      <td>164.533872</td>\n",
       "      <td>{\"coordinates\": [[2.345023099540479, 48.878346...</td>\n",
       "      <td>48.87901301150777, 2.3455079416434037</td>\n",
       "    </tr>\n",
       "    <tr>\n",
       "      <th>3</th>\n",
       "      <td>Rue Pradier</td>\n",
       "      <td>double-sens cyclable simple</td>\n",
       "      <td>19</td>\n",
       "      <td>2021-01-01T01:00:00+00:00</td>\n",
       "      <td>173.307351</td>\n",
       "      <td>{\"coordinates\": [[2.3830538001976085, 48.87693...</td>\n",
       "      <td>48.87625877793356, 2.3824668939223757</td>\n",
       "    </tr>\n",
       "    <tr>\n",
       "      <th>4</th>\n",
       "      <td>Rue du Delta</td>\n",
       "      <td>double-sens cyclable simple</td>\n",
       "      <td>9</td>\n",
       "      <td>2021-01-01T01:00:00+00:00</td>\n",
       "      <td>216.079993</td>\n",
       "      <td>{\"coordinates\": [[2.3496701995597253, 48.88239...</td>\n",
       "      <td>48.882424006401074, 2.3481975812357345</td>\n",
       "    </tr>\n",
       "  </tbody>\n",
       "</table>\n",
       "</div>"
      ],
      "text/plain": [
       "                              nom                  amenagement  \\\n",
       "0                 Square du Rhône                voie piétonne   \n",
       "1                  Rue Jacquemont  double-sens cyclable simple   \n",
       "2  Rue Marguerite de Rochechouart               bande cyclable   \n",
       "3                     Rue Pradier  double-sens cyclable simple   \n",
       "4                    Rue du Delta  double-sens cyclable simple   \n",
       "\n",
       "   arrondissement                date_export  st_length_shape  \\\n",
       "0              17  2021-01-01T01:00:00+00:00        59.578972   \n",
       "1              17  2021-01-01T01:00:00+00:00       167.174771   \n",
       "2               9  2021-01-01T01:00:00+00:00       164.533872   \n",
       "3              19  2021-01-01T01:00:00+00:00       173.307351   \n",
       "4               9  2021-01-01T01:00:00+00:00       216.079993   \n",
       "\n",
       "                                           geo_shape  \\\n",
       "0  {\"coordinates\": [[2.3008191005798406, 48.88862...   \n",
       "1  {\"coordinates\": [[2.3236381004424285, 48.88862...   \n",
       "2  {\"coordinates\": [[2.345023099540479, 48.878346...   \n",
       "3  {\"coordinates\": [[2.3830538001976085, 48.87693...   \n",
       "4  {\"coordinates\": [[2.3496701995597253, 48.88239...   \n",
       "\n",
       "                             geo_point_2d  \n",
       "0   48.88884600558725, 2.3005780283356656  \n",
       "1   48.88806434279106, 2.3228773233498208  \n",
       "2   48.87901301150777, 2.3455079416434037  \n",
       "3   48.87625877793356, 2.3824668939223757  \n",
       "4  48.882424006401074, 2.3481975812357345  "
      ]
     },
     "execution_count": 27,
     "metadata": {},
     "output_type": "execute_result"
    }
   ],
   "source": [
    "df.head()"
   ]
  }
 ],
 "metadata": {
  "kernelspec": {
   "display_name": ".venv",
   "language": "python",
   "name": "python3"
  },
  "language_info": {
   "codemirror_mode": {
    "name": "ipython",
    "version": 3
   },
   "file_extension": ".py",
   "mimetype": "text/x-python",
   "name": "python",
   "nbconvert_exporter": "python",
   "pygments_lexer": "ipython3",
   "version": "3.13.1"
  }
 },
 "nbformat": 4,
 "nbformat_minor": 2
}
